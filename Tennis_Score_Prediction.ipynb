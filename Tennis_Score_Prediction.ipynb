{
 "cells": [
  {
   "cell_type": "markdown",
   "metadata": {},
   "source": [
    "# <font color=green>Tennis Score Prediction - CUTE-3</font>"
   ]
  },
  {
   "cell_type": "code",
   "execution_count": 335,
   "metadata": {},
   "outputs": [],
   "source": [
    "import pandas as pd\n",
    "import numpy as np\n",
    "import matplotlib.pyplot as plt\n",
    "import seaborn as sns\n",
    "from sklearn.model_selection import train_test_split\n",
    "from sklearn.ensemble import RandomForestClassifier\n",
    "from sklearn.svm import SVC\n",
    "import xgboost as xgb\n",
    "from sklearn.metrics import accuracy_score, classification_report, confusion_matrix"
   ]
  },
  {
   "cell_type": "markdown",
   "metadata": {},
   "source": [
    "## <font color=green>Load the Train Data file</font>"
   ]
  },
  {
   "cell_type": "code",
   "execution_count": 317,
   "metadata": {},
   "outputs": [],
   "source": [
    "train_df = pd.read_csv(\"train-1542197608821.csv\")"
   ]
  },
  {
   "cell_type": "markdown",
   "metadata": {},
   "source": [
    "## <font color=green>Descriptive Analysis on Train Dataset</font>"
   ]
  },
  {
   "cell_type": "code",
   "execution_count": 318,
   "metadata": {},
   "outputs": [
    {
     "data": {
      "text/plain": [
       "(8001, 27)"
      ]
     },
     "execution_count": 318,
     "metadata": {},
     "output_type": "execute_result"
    }
   ],
   "source": [
    "train_df.shape"
   ]
  },
  {
   "cell_type": "code",
   "execution_count": 319,
   "metadata": {},
   "outputs": [
    {
     "data": {
      "text/html": [
       "<div>\n",
       "<style scoped>\n",
       "    .dataframe tbody tr th:only-of-type {\n",
       "        vertical-align: middle;\n",
       "    }\n",
       "\n",
       "    .dataframe tbody tr th {\n",
       "        vertical-align: top;\n",
       "    }\n",
       "\n",
       "    .dataframe thead th {\n",
       "        text-align: right;\n",
       "    }\n",
       "</style>\n",
       "<table border=\"1\" class=\"dataframe\">\n",
       "  <thead>\n",
       "    <tr style=\"text-align: right;\">\n",
       "      <th></th>\n",
       "      <th>rally</th>\n",
       "      <th>serve</th>\n",
       "      <th>hitpoint</th>\n",
       "      <th>speed</th>\n",
       "      <th>net.clearance</th>\n",
       "      <th>distance.from.sideline</th>\n",
       "      <th>depth</th>\n",
       "      <th>outside.sideline</th>\n",
       "      <th>outside.baseline</th>\n",
       "      <th>player.distance.travelled</th>\n",
       "      <th>...</th>\n",
       "      <th>previous.depth</th>\n",
       "      <th>opponent.depth</th>\n",
       "      <th>opponent.distance.from.center</th>\n",
       "      <th>same.side</th>\n",
       "      <th>previous.hitpoint</th>\n",
       "      <th>previous.time.to.net</th>\n",
       "      <th>server.is.impact.player</th>\n",
       "      <th>outcome</th>\n",
       "      <th>gender</th>\n",
       "      <th>ID</th>\n",
       "    </tr>\n",
       "  </thead>\n",
       "  <tbody>\n",
       "    <tr>\n",
       "      <th>0</th>\n",
       "      <td>4</td>\n",
       "      <td>1</td>\n",
       "      <td>B</td>\n",
       "      <td>35.515042</td>\n",
       "      <td>-0.021725</td>\n",
       "      <td>3.474766</td>\n",
       "      <td>6.797621</td>\n",
       "      <td>False</td>\n",
       "      <td>False</td>\n",
       "      <td>1.467570</td>\n",
       "      <td>...</td>\n",
       "      <td>0.705435</td>\n",
       "      <td>12.5628</td>\n",
       "      <td>2.0724</td>\n",
       "      <td>True</td>\n",
       "      <td>F</td>\n",
       "      <td>0.445318</td>\n",
       "      <td>False</td>\n",
       "      <td>UE</td>\n",
       "      <td>mens</td>\n",
       "      <td>8644</td>\n",
       "    </tr>\n",
       "    <tr>\n",
       "      <th>1</th>\n",
       "      <td>4</td>\n",
       "      <td>2</td>\n",
       "      <td>B</td>\n",
       "      <td>33.382640</td>\n",
       "      <td>1.114202</td>\n",
       "      <td>2.540801</td>\n",
       "      <td>2.608708</td>\n",
       "      <td>False</td>\n",
       "      <td>True</td>\n",
       "      <td>2.311931</td>\n",
       "      <td>...</td>\n",
       "      <td>3.856600</td>\n",
       "      <td>12.3544</td>\n",
       "      <td>5.1124</td>\n",
       "      <td>False</td>\n",
       "      <td>B</td>\n",
       "      <td>0.432434</td>\n",
       "      <td>False</td>\n",
       "      <td>FE</td>\n",
       "      <td>mens</td>\n",
       "      <td>1182</td>\n",
       "    </tr>\n",
       "    <tr>\n",
       "      <th>2</th>\n",
       "      <td>23</td>\n",
       "      <td>1</td>\n",
       "      <td>B</td>\n",
       "      <td>22.316690</td>\n",
       "      <td>-0.254046</td>\n",
       "      <td>3.533166</td>\n",
       "      <td>9.435749</td>\n",
       "      <td>False</td>\n",
       "      <td>False</td>\n",
       "      <td>3.903728</td>\n",
       "      <td>...</td>\n",
       "      <td>2.908892</td>\n",
       "      <td>13.8620</td>\n",
       "      <td>1.6564</td>\n",
       "      <td>False</td>\n",
       "      <td>F</td>\n",
       "      <td>0.397538</td>\n",
       "      <td>True</td>\n",
       "      <td>FE</td>\n",
       "      <td>mens</td>\n",
       "      <td>9042</td>\n",
       "    </tr>\n",
       "    <tr>\n",
       "      <th>3</th>\n",
       "      <td>9</td>\n",
       "      <td>1</td>\n",
       "      <td>F</td>\n",
       "      <td>36.837309</td>\n",
       "      <td>0.766694</td>\n",
       "      <td>0.586885</td>\n",
       "      <td>3.342180</td>\n",
       "      <td>True</td>\n",
       "      <td>False</td>\n",
       "      <td>0.583745</td>\n",
       "      <td>...</td>\n",
       "      <td>0.557554</td>\n",
       "      <td>14.2596</td>\n",
       "      <td>0.1606</td>\n",
       "      <td>True</td>\n",
       "      <td>B</td>\n",
       "      <td>0.671984</td>\n",
       "      <td>True</td>\n",
       "      <td>UE</td>\n",
       "      <td>mens</td>\n",
       "      <td>1222</td>\n",
       "    </tr>\n",
       "    <tr>\n",
       "      <th>4</th>\n",
       "      <td>4</td>\n",
       "      <td>1</td>\n",
       "      <td>B</td>\n",
       "      <td>35.544208</td>\n",
       "      <td>0.116162</td>\n",
       "      <td>0.918725</td>\n",
       "      <td>5.499119</td>\n",
       "      <td>False</td>\n",
       "      <td>False</td>\n",
       "      <td>2.333456</td>\n",
       "      <td>...</td>\n",
       "      <td>3.945317</td>\n",
       "      <td>11.3658</td>\n",
       "      <td>1.1082</td>\n",
       "      <td>False</td>\n",
       "      <td>F</td>\n",
       "      <td>0.340411</td>\n",
       "      <td>False</td>\n",
       "      <td>W</td>\n",
       "      <td>mens</td>\n",
       "      <td>4085</td>\n",
       "    </tr>\n",
       "  </tbody>\n",
       "</table>\n",
       "<p>5 rows × 27 columns</p>\n",
       "</div>"
      ],
      "text/plain": [
       "   rally  serve hitpoint      speed  net.clearance  distance.from.sideline  \\\n",
       "0      4      1        B  35.515042      -0.021725                3.474766   \n",
       "1      4      2        B  33.382640       1.114202                2.540801   \n",
       "2     23      1        B  22.316690      -0.254046                3.533166   \n",
       "3      9      1        F  36.837309       0.766694                0.586885   \n",
       "4      4      1        B  35.544208       0.116162                0.918725   \n",
       "\n",
       "      depth  outside.sideline  outside.baseline  player.distance.travelled  \\\n",
       "0  6.797621             False             False                   1.467570   \n",
       "1  2.608708             False              True                   2.311931   \n",
       "2  9.435749             False             False                   3.903728   \n",
       "3  3.342180              True             False                   0.583745   \n",
       "4  5.499119             False             False                   2.333456   \n",
       "\n",
       "   ...   previous.depth  opponent.depth  opponent.distance.from.center  \\\n",
       "0  ...         0.705435         12.5628                         2.0724   \n",
       "1  ...         3.856600         12.3544                         5.1124   \n",
       "2  ...         2.908892         13.8620                         1.6564   \n",
       "3  ...         0.557554         14.2596                         0.1606   \n",
       "4  ...         3.945317         11.3658                         1.1082   \n",
       "\n",
       "   same.side  previous.hitpoint  previous.time.to.net  \\\n",
       "0       True                  F              0.445318   \n",
       "1      False                  B              0.432434   \n",
       "2      False                  F              0.397538   \n",
       "3       True                  B              0.671984   \n",
       "4      False                  F              0.340411   \n",
       "\n",
       "   server.is.impact.player  outcome  gender    ID  \n",
       "0                    False       UE    mens  8644  \n",
       "1                    False       FE    mens  1182  \n",
       "2                     True       FE    mens  9042  \n",
       "3                     True       UE    mens  1222  \n",
       "4                    False        W    mens  4085  \n",
       "\n",
       "[5 rows x 27 columns]"
      ]
     },
     "execution_count": 319,
     "metadata": {},
     "output_type": "execute_result"
    }
   ],
   "source": [
    "train_df.head()"
   ]
  },
  {
   "cell_type": "code",
   "execution_count": 320,
   "metadata": {
    "scrolled": true
   },
   "outputs": [
    {
     "data": {
      "text/plain": [
       "rally                                   int64\n",
       "serve                                   int64\n",
       "hitpoint                               object\n",
       "speed                                 float64\n",
       "net.clearance                         float64\n",
       "distance.from.sideline                float64\n",
       "depth                                 float64\n",
       "outside.sideline                         bool\n",
       "outside.baseline                         bool\n",
       "player.distance.travelled             float64\n",
       "player.impact.depth                   float64\n",
       "player.impact.distance.from.center    float64\n",
       "player.depth                          float64\n",
       "player.distance.from.center           float64\n",
       "previous.speed                        float64\n",
       "previous.net.clearance                float64\n",
       "previous.distance.from.sideline       float64\n",
       "previous.depth                        float64\n",
       "opponent.depth                        float64\n",
       "opponent.distance.from.center         float64\n",
       "same.side                                bool\n",
       "previous.hitpoint                      object\n",
       "previous.time.to.net                  float64\n",
       "server.is.impact.player                  bool\n",
       "outcome                                object\n",
       "gender                                 object\n",
       "ID                                      int64\n",
       "dtype: object"
      ]
     },
     "execution_count": 320,
     "metadata": {},
     "output_type": "execute_result"
    }
   ],
   "source": [
    "train_df.dtypes"
   ]
  },
  {
   "cell_type": "markdown",
   "metadata": {},
   "source": [
    "## <font color=green>Check for missing values</font>"
   ]
  },
  {
   "cell_type": "code",
   "execution_count": 321,
   "metadata": {},
   "outputs": [
    {
     "data": {
      "text/plain": [
       "rally                                 0\n",
       "serve                                 0\n",
       "hitpoint                              0\n",
       "speed                                 0\n",
       "net.clearance                         0\n",
       "distance.from.sideline                0\n",
       "depth                                 0\n",
       "outside.sideline                      0\n",
       "outside.baseline                      0\n",
       "player.distance.travelled             0\n",
       "player.impact.depth                   0\n",
       "player.impact.distance.from.center    0\n",
       "player.depth                          0\n",
       "player.distance.from.center           0\n",
       "previous.speed                        0\n",
       "previous.net.clearance                0\n",
       "previous.distance.from.sideline       0\n",
       "previous.depth                        0\n",
       "opponent.depth                        0\n",
       "opponent.distance.from.center         0\n",
       "same.side                             0\n",
       "previous.hitpoint                     0\n",
       "previous.time.to.net                  0\n",
       "server.is.impact.player               0\n",
       "outcome                               0\n",
       "gender                                0\n",
       "ID                                    0\n",
       "dtype: int64"
      ]
     },
     "execution_count": 321,
     "metadata": {},
     "output_type": "execute_result"
    }
   ],
   "source": [
    "train_df.isna().sum()"
   ]
  },
  {
   "cell_type": "code",
   "execution_count": 322,
   "metadata": {},
   "outputs": [
    {
     "data": {
      "text/html": [
       "<div>\n",
       "<style scoped>\n",
       "    .dataframe tbody tr th:only-of-type {\n",
       "        vertical-align: middle;\n",
       "    }\n",
       "\n",
       "    .dataframe tbody tr th {\n",
       "        vertical-align: top;\n",
       "    }\n",
       "\n",
       "    .dataframe thead th {\n",
       "        text-align: right;\n",
       "    }\n",
       "</style>\n",
       "<table border=\"1\" class=\"dataframe\">\n",
       "  <thead>\n",
       "    <tr style=\"text-align: right;\">\n",
       "      <th></th>\n",
       "      <th>rally</th>\n",
       "      <th>serve</th>\n",
       "      <th>speed</th>\n",
       "      <th>net.clearance</th>\n",
       "      <th>distance.from.sideline</th>\n",
       "      <th>depth</th>\n",
       "      <th>player.distance.travelled</th>\n",
       "      <th>player.impact.depth</th>\n",
       "      <th>player.impact.distance.from.center</th>\n",
       "      <th>player.depth</th>\n",
       "      <th>player.distance.from.center</th>\n",
       "      <th>previous.speed</th>\n",
       "      <th>previous.net.clearance</th>\n",
       "      <th>previous.distance.from.sideline</th>\n",
       "      <th>previous.depth</th>\n",
       "      <th>opponent.depth</th>\n",
       "      <th>opponent.distance.from.center</th>\n",
       "      <th>previous.time.to.net</th>\n",
       "      <th>ID</th>\n",
       "    </tr>\n",
       "  </thead>\n",
       "  <tbody>\n",
       "    <tr>\n",
       "      <th>count</th>\n",
       "      <td>8001.000000</td>\n",
       "      <td>8001.000000</td>\n",
       "      <td>8001.000000</td>\n",
       "      <td>8001.000000</td>\n",
       "      <td>8001.000000</td>\n",
       "      <td>8001.000000</td>\n",
       "      <td>8001.000000</td>\n",
       "      <td>8001.000000</td>\n",
       "      <td>8001.000000</td>\n",
       "      <td>8001.000000</td>\n",
       "      <td>8001.000000</td>\n",
       "      <td>8001.000000</td>\n",
       "      <td>8001.000000</td>\n",
       "      <td>8001.000000</td>\n",
       "      <td>8001.000000</td>\n",
       "      <td>8001.000000</td>\n",
       "      <td>8001.000000</td>\n",
       "      <td>8001.000000</td>\n",
       "      <td>8001.000000</td>\n",
       "    </tr>\n",
       "    <tr>\n",
       "      <th>mean</th>\n",
       "      <td>5.966004</td>\n",
       "      <td>1.398700</td>\n",
       "      <td>30.806938</td>\n",
       "      <td>0.629658</td>\n",
       "      <td>1.467630</td>\n",
       "      <td>4.421146</td>\n",
       "      <td>2.690463</td>\n",
       "      <td>11.899694</td>\n",
       "      <td>1.919544</td>\n",
       "      <td>12.253954</td>\n",
       "      <td>1.213795</td>\n",
       "      <td>28.763676</td>\n",
       "      <td>0.821562</td>\n",
       "      <td>2.193420</td>\n",
       "      <td>4.218717</td>\n",
       "      <td>12.616810</td>\n",
       "      <td>2.367952</td>\n",
       "      <td>0.549988</td>\n",
       "      <td>5004.917260</td>\n",
       "    </tr>\n",
       "    <tr>\n",
       "      <th>std</th>\n",
       "      <td>3.548182</td>\n",
       "      <td>0.489661</td>\n",
       "      <td>7.298917</td>\n",
       "      <td>0.982504</td>\n",
       "      <td>1.108697</td>\n",
       "      <td>3.144965</td>\n",
       "      <td>1.713136</td>\n",
       "      <td>2.788231</td>\n",
       "      <td>1.205449</td>\n",
       "      <td>2.039085</td>\n",
       "      <td>0.964364</td>\n",
       "      <td>6.477470</td>\n",
       "      <td>0.674663</td>\n",
       "      <td>1.038942</td>\n",
       "      <td>2.052946</td>\n",
       "      <td>2.075401</td>\n",
       "      <td>1.313927</td>\n",
       "      <td>0.186788</td>\n",
       "      <td>2895.018795</td>\n",
       "    </tr>\n",
       "    <tr>\n",
       "      <th>min</th>\n",
       "      <td>3.000000</td>\n",
       "      <td>1.000000</td>\n",
       "      <td>5.176078</td>\n",
       "      <td>-0.998184</td>\n",
       "      <td>0.000497</td>\n",
       "      <td>0.003135</td>\n",
       "      <td>0.000000</td>\n",
       "      <td>2.156000</td>\n",
       "      <td>0.000200</td>\n",
       "      <td>1.389800</td>\n",
       "      <td>0.000400</td>\n",
       "      <td>8.449117</td>\n",
       "      <td>0.028865</td>\n",
       "      <td>0.000164</td>\n",
       "      <td>0.000467</td>\n",
       "      <td>2.161200</td>\n",
       "      <td>0.000200</td>\n",
       "      <td>0.003201</td>\n",
       "      <td>1.000000</td>\n",
       "    </tr>\n",
       "    <tr>\n",
       "      <th>25%</th>\n",
       "      <td>3.000000</td>\n",
       "      <td>1.000000</td>\n",
       "      <td>26.770290</td>\n",
       "      <td>-0.027092</td>\n",
       "      <td>0.539500</td>\n",
       "      <td>1.641161</td>\n",
       "      <td>1.444233</td>\n",
       "      <td>11.221400</td>\n",
       "      <td>0.942400</td>\n",
       "      <td>11.374200</td>\n",
       "      <td>0.551800</td>\n",
       "      <td>24.033218</td>\n",
       "      <td>0.404815</td>\n",
       "      <td>1.354458</td>\n",
       "      <td>2.733674</td>\n",
       "      <td>12.082400</td>\n",
       "      <td>1.352200</td>\n",
       "      <td>0.432164</td>\n",
       "      <td>2500.000000</td>\n",
       "    </tr>\n",
       "    <tr>\n",
       "      <th>50%</th>\n",
       "      <td>5.000000</td>\n",
       "      <td>1.000000</td>\n",
       "      <td>32.417690</td>\n",
       "      <td>0.445870</td>\n",
       "      <td>1.210847</td>\n",
       "      <td>3.860266</td>\n",
       "      <td>2.360894</td>\n",
       "      <td>12.691800</td>\n",
       "      <td>1.829400</td>\n",
       "      <td>12.551600</td>\n",
       "      <td>0.983800</td>\n",
       "      <td>29.793417</td>\n",
       "      <td>0.658382</td>\n",
       "      <td>2.168822</td>\n",
       "      <td>4.126864</td>\n",
       "      <td>12.901600</td>\n",
       "      <td>2.332000</td>\n",
       "      <td>0.507559</td>\n",
       "      <td>4996.000000</td>\n",
       "    </tr>\n",
       "    <tr>\n",
       "      <th>75%</th>\n",
       "      <td>7.000000</td>\n",
       "      <td>2.000000</td>\n",
       "      <td>35.681431</td>\n",
       "      <td>0.970844</td>\n",
       "      <td>2.215955</td>\n",
       "      <td>7.029345</td>\n",
       "      <td>3.565853</td>\n",
       "      <td>13.553000</td>\n",
       "      <td>2.745200</td>\n",
       "      <td>13.498000</td>\n",
       "      <td>1.596600</td>\n",
       "      <td>33.581003</td>\n",
       "      <td>1.021397</td>\n",
       "      <td>3.022677</td>\n",
       "      <td>5.595515</td>\n",
       "      <td>13.712800</td>\n",
       "      <td>3.259000</td>\n",
       "      <td>0.624135</td>\n",
       "      <td>7523.000000</td>\n",
       "    </tr>\n",
       "    <tr>\n",
       "      <th>max</th>\n",
       "      <td>38.000000</td>\n",
       "      <td>2.000000</td>\n",
       "      <td>55.052795</td>\n",
       "      <td>12.815893</td>\n",
       "      <td>7.569757</td>\n",
       "      <td>11.886069</td>\n",
       "      <td>14.480546</td>\n",
       "      <td>18.125600</td>\n",
       "      <td>7.746200</td>\n",
       "      <td>18.745800</td>\n",
       "      <td>9.352600</td>\n",
       "      <td>54.207506</td>\n",
       "      <td>6.730275</td>\n",
       "      <td>4.114361</td>\n",
       "      <td>9.997963</td>\n",
       "      <td>20.211000</td>\n",
       "      <td>6.852600</td>\n",
       "      <td>1.635257</td>\n",
       "      <td>10000.000000</td>\n",
       "    </tr>\n",
       "  </tbody>\n",
       "</table>\n",
       "</div>"
      ],
      "text/plain": [
       "             rally        serve        speed  net.clearance  \\\n",
       "count  8001.000000  8001.000000  8001.000000    8001.000000   \n",
       "mean      5.966004     1.398700    30.806938       0.629658   \n",
       "std       3.548182     0.489661     7.298917       0.982504   \n",
       "min       3.000000     1.000000     5.176078      -0.998184   \n",
       "25%       3.000000     1.000000    26.770290      -0.027092   \n",
       "50%       5.000000     1.000000    32.417690       0.445870   \n",
       "75%       7.000000     2.000000    35.681431       0.970844   \n",
       "max      38.000000     2.000000    55.052795      12.815893   \n",
       "\n",
       "       distance.from.sideline        depth  player.distance.travelled  \\\n",
       "count             8001.000000  8001.000000                8001.000000   \n",
       "mean                 1.467630     4.421146                   2.690463   \n",
       "std                  1.108697     3.144965                   1.713136   \n",
       "min                  0.000497     0.003135                   0.000000   \n",
       "25%                  0.539500     1.641161                   1.444233   \n",
       "50%                  1.210847     3.860266                   2.360894   \n",
       "75%                  2.215955     7.029345                   3.565853   \n",
       "max                  7.569757    11.886069                  14.480546   \n",
       "\n",
       "       player.impact.depth  player.impact.distance.from.center  player.depth  \\\n",
       "count          8001.000000                         8001.000000   8001.000000   \n",
       "mean             11.899694                            1.919544     12.253954   \n",
       "std               2.788231                            1.205449      2.039085   \n",
       "min               2.156000                            0.000200      1.389800   \n",
       "25%              11.221400                            0.942400     11.374200   \n",
       "50%              12.691800                            1.829400     12.551600   \n",
       "75%              13.553000                            2.745200     13.498000   \n",
       "max              18.125600                            7.746200     18.745800   \n",
       "\n",
       "       player.distance.from.center  previous.speed  previous.net.clearance  \\\n",
       "count                  8001.000000     8001.000000             8001.000000   \n",
       "mean                      1.213795       28.763676                0.821562   \n",
       "std                       0.964364        6.477470                0.674663   \n",
       "min                       0.000400        8.449117                0.028865   \n",
       "25%                       0.551800       24.033218                0.404815   \n",
       "50%                       0.983800       29.793417                0.658382   \n",
       "75%                       1.596600       33.581003                1.021397   \n",
       "max                       9.352600       54.207506                6.730275   \n",
       "\n",
       "       previous.distance.from.sideline  previous.depth  opponent.depth  \\\n",
       "count                      8001.000000     8001.000000     8001.000000   \n",
       "mean                          2.193420        4.218717       12.616810   \n",
       "std                           1.038942        2.052946        2.075401   \n",
       "min                           0.000164        0.000467        2.161200   \n",
       "25%                           1.354458        2.733674       12.082400   \n",
       "50%                           2.168822        4.126864       12.901600   \n",
       "75%                           3.022677        5.595515       13.712800   \n",
       "max                           4.114361        9.997963       20.211000   \n",
       "\n",
       "       opponent.distance.from.center  previous.time.to.net            ID  \n",
       "count                    8001.000000           8001.000000   8001.000000  \n",
       "mean                        2.367952              0.549988   5004.917260  \n",
       "std                         1.313927              0.186788   2895.018795  \n",
       "min                         0.000200              0.003201      1.000000  \n",
       "25%                         1.352200              0.432164   2500.000000  \n",
       "50%                         2.332000              0.507559   4996.000000  \n",
       "75%                         3.259000              0.624135   7523.000000  \n",
       "max                         6.852600              1.635257  10000.000000  "
      ]
     },
     "execution_count": 322,
     "metadata": {},
     "output_type": "execute_result"
    }
   ],
   "source": [
    "train_df.describe()"
   ]
  },
  {
   "cell_type": "markdown",
   "metadata": {},
   "source": [
    "<font color=red>rally, speed, net.clearance, player.distance.travelled, player.distance.from.center features might be influential points or outliers</font>"
   ]
  },
  {
   "cell_type": "markdown",
   "metadata": {},
   "source": [
    "## <font color=green>List out Numerical and Categorical attributes</font>"
   ]
  },
  {
   "cell_type": "code",
   "execution_count": 323,
   "metadata": {},
   "outputs": [],
   "source": [
    "numerical_attr = ['rally','speed','net.clearance','distance.from.sideline','depth','player.distance.travelled','player.impact.depth','player.impact.distance.from.center','player.depth','player.distance.from.center','previous.speed','previous.net.clearance','previous.distance.from.sideline','previous.depth','opponent.depth','opponent.distance.from.center','previous.time.to.net']\n",
    "cat_attr = ['serve','hitpoint','outside.sideline','outside.baseline','same.side','previous.hitpoint','server.is.impact.player','gender']\n",
    "\n",
    "#numerical_attr = ['rally','speed','net.clearance','distance.from.sideline','depth','player.distance.travelled','player.impact.depth','player.impact.distance.from.center','player.depth','player.distance.from.center','opponent.depth','opponent.distance.from.center']\n",
    "#cat_attr = ['serve','hitpoint','outside.sideline','outside.baseline','same.side','server.is.impact.player','gender']\n",
    "\n",
    "# Total attribute 27 including target attribute\n",
    "# numerical attribute - 17\n",
    "# categorical attribute - 8\n"
   ]
  },
  {
   "cell_type": "code",
   "execution_count": 324,
   "metadata": {},
   "outputs": [
    {
     "data": {
      "image/png": "[encoded data removed]",
      "text/plain": [
       "<Figure size 337.75x288 with 1 Axes>"
      ]
     },
     "metadata": {},
     "output_type": "display_data"
    }
   ],
   "source": [
    "sns.set_style(\"whitegrid\");\n",
    "sns.FacetGrid(train_df, hue=\"outcome\", size=4) \\\n",
    "   .map(plt.scatter, \"distance.from.sideline\", \"previous.distance.from.sideline\") \\\n",
    "   .add_legend();\n",
    "plt.show();"
   ]
  },
  {
   "cell_type": "markdown",
   "metadata": {},
   "source": [
    "## <font color=green>Correlation plot among numeric independent variable</font>"
   ]
  },
  {
   "cell_type": "code",
   "execution_count": 325,
   "metadata": {},
   "outputs": [
    {
     "data": {
      "image/png": "[encoded data removed]",
      "text/plain": [
       "<Figure size 432x288 with 2 Axes>"
      ]
     },
     "metadata": {},
     "output_type": "display_data"
    }
   ],
   "source": [
    "sns.heatmap(train_df[numerical_attr].corr())\n",
    "plt.show()"
   ]
  },
  {
   "cell_type": "markdown",
   "metadata": {},
   "source": [
    "### Create a new copy of train data frame"
   ]
  },
  {
   "cell_type": "code",
   "execution_count": 326,
   "metadata": {},
   "outputs": [],
   "source": [
    "new_train_df = train_df.copy()"
   ]
  },
  {
   "cell_type": "markdown",
   "metadata": {},
   "source": [
    "## <font color='green'>Drop attribute which will not be part of analysis</font>"
   ]
  },
  {
   "cell_type": "code",
   "execution_count": 327,
   "metadata": {},
   "outputs": [],
   "source": [
    "# Remove 'ID' attribute\n",
    "new_train_df.drop('ID', axis=1, inplace = True)"
   ]
  },
  {
   "cell_type": "markdown",
   "metadata": {},
   "source": [
    "## <font color='green'>Function for Preprocessing</font>"
   ]
  },
  {
   "cell_type": "code",
   "execution_count": 328,
   "metadata": {},
   "outputs": [],
   "source": [
    "def preprocessing_data(data):\n",
    "    global numerical_attr\n",
    "    global cat_attr\n",
    "    num_attr = data[numerical_attr]\n",
    "    categorical_attr = data[cat_attr]\n",
    "    print(\"num_attr.shape : \",num_attr.shape)\n",
    "    print(\"categorical_attr.shape : \",categorical_attr.shape)\n",
    "    for cat in cat_attr:\n",
    "        categorical_attr[cat] = categorical_attr[cat].astype('category') # Change object type to categorical type\n",
    "    \n",
    "    # Dummify categorical attribute\n",
    "    for i in cat_attr:\n",
    "        val = pd.get_dummies(categorical_attr[i], prefix=i)\n",
    "        categorical_attr = pd.concat([categorical_attr,val], axis=1)\n",
    "        categorical_attr = categorical_attr.drop(i, axis=1)\n",
    "    categorical_attr = categorical_attr.drop(['serve_2','hitpoint_V','outside.sideline_False','outside.baseline_False','same.side_False','previous.hitpoint_V','server.is.impact.player_False','gender_womens'], axis=1)\n",
    "    #categorical_attr = categorical_attr.drop(['serve_2','hitpoint_V','outside.sideline_False','outside.baseline_False','same.side_False','server.is.impact.player_False','gender_womens'], axis=1)\n",
    "    final_data = pd.concat([num_attr,categorical_attr], axis=1)\n",
    "    return final_data"
   ]
  },
  {
   "cell_type": "markdown",
   "metadata": {},
   "source": [
    "## <font color=green>Split the data into predictor and target variable</font>"
   ]
  },
  {
   "cell_type": "code",
   "execution_count": 329,
   "metadata": {},
   "outputs": [],
   "source": [
    "#Split predictor & target variable\n",
    "\n",
    "X = new_train_df.drop('outcome', axis=1)\n",
    "y = new_train_df[['outcome']]"
   ]
  },
  {
   "cell_type": "markdown",
   "metadata": {},
   "source": [
    "## <font color=green>Split the data into train and test</font>"
   ]
  },
  {
   "cell_type": "code",
   "execution_count": 330,
   "metadata": {},
   "outputs": [],
   "source": [
    "# Split train & test\n",
    "X_train, X_test, y_train, y_test = train_test_split(X, y, test_size = 0.2)"
   ]
  },
  {
   "cell_type": "markdown",
   "metadata": {},
   "source": [
    "## <font color=green>Preprocess train data</font>"
   ]
  },
  {
   "cell_type": "code",
   "execution_count": 331,
   "metadata": {},
   "outputs": [
    {
     "name": "stdout",
     "output_type": "stream",
     "text": [
      "num_attr.shape :  (6400, 17)\n",
      "categorical_attr.shape :  (6400, 8)\n"
     ]
    },
    {
     "name": "stderr",
     "output_type": "stream",
     "text": [
      "C:\\ProgramData\\Anaconda3\\lib\\site-packages\\ipykernel_launcher.py:9: SettingWithCopyWarning: \n",
      "A value is trying to be set on a copy of a slice from a DataFrame.\n",
      "Try using .loc[row_indexer,col_indexer] = value instead\n",
      "\n",
      "See the caveats in the documentation: http://pandas.pydata.org/pandas-docs/stable/indexing.html#indexing-view-versus-copy\n",
      "  if __name__ == '__main__':\n"
     ]
    }
   ],
   "source": [
    "# Preprocess train dataset\n",
    "X_train = preprocessing_data(X_train)"
   ]
  },
  {
   "cell_type": "markdown",
   "metadata": {},
   "source": [
    "## <font color=green>Preprocess test data</font>"
   ]
  },
  {
   "cell_type": "code",
   "execution_count": 332,
   "metadata": {
    "scrolled": true
   },
   "outputs": [
    {
     "name": "stdout",
     "output_type": "stream",
     "text": [
      "num_attr.shape :  (1601, 17)\n",
      "categorical_attr.shape :  (1601, 8)\n"
     ]
    },
    {
     "name": "stderr",
     "output_type": "stream",
     "text": [
      "C:\\ProgramData\\Anaconda3\\lib\\site-packages\\ipykernel_launcher.py:9: SettingWithCopyWarning: \n",
      "A value is trying to be set on a copy of a slice from a DataFrame.\n",
      "Try using .loc[row_indexer,col_indexer] = value instead\n",
      "\n",
      "See the caveats in the documentation: http://pandas.pydata.org/pandas-docs/stable/indexing.html#indexing-view-versus-copy\n",
      "  if __name__ == '__main__':\n"
     ]
    }
   ],
   "source": [
    "# Preprocess test dataset\n",
    "X_test = preprocessing_data(X_test)"
   ]
  },
  {
   "cell_type": "markdown",
   "metadata": {},
   "source": [
    "## <font color=green>Standardized numerical data</font>"
   ]
  },
  {
   "cell_type": "code",
   "execution_count": 333,
   "metadata": {},
   "outputs": [],
   "source": [
    "from sklearn.preprocessing import StandardScaler\n",
    "sc = StandardScaler()\n",
    "X_train[numerical_attr] = sc.fit_transform(X_train[numerical_attr])\n",
    "X_test[numerical_attr] = sc.transform(X_test[numerical_attr])"
   ]
  },
  {
   "cell_type": "markdown",
   "metadata": {},
   "source": [
    "## <font color=green>Apply Random Forest on data set</font>"
   ]
  },
  {
   "cell_type": "code",
   "execution_count": 261,
   "metadata": {
    "scrolled": true
   },
   "outputs": [
    {
     "name": "stderr",
     "output_type": "stream",
     "text": [
      "C:\\ProgramData\\Anaconda3\\lib\\site-packages\\ipykernel_launcher.py:3: DataConversionWarning: A column-vector y was passed when a 1d array was expected. Please change the shape of y to (n_samples,), for example using ravel().\n",
      "  This is separate from the ipykernel package so we can avoid doing imports until\n"
     ]
    },
    {
     "data": {
      "text/plain": [
       "RandomForestClassifier(bootstrap=True, class_weight=None, criterion='gini',\n",
       "            max_depth=None, max_features='auto', max_leaf_nodes=None,\n",
       "            min_impurity_decrease=0.0, min_impurity_split=None,\n",
       "            min_samples_leaf=1, min_samples_split=2,\n",
       "            min_weight_fraction_leaf=0.0, n_estimators=27, n_jobs=1,\n",
       "            oob_score=False, random_state=None, verbose=0,\n",
       "            warm_start=False)"
      ]
     },
     "execution_count": 261,
     "metadata": {},
     "output_type": "execute_result"
    }
   ],
   "source": [
    "# Create Random Forest model\n",
    "rfc = RandomForestClassifier(n_estimators=27)\n",
    "rfc.fit(X_train, y_train)"
   ]
  },
  {
   "cell_type": "markdown",
   "metadata": {},
   "source": [
    "## <font color=green>Predict on Train data</font>"
   ]
  },
  {
   "cell_type": "code",
   "execution_count": 262,
   "metadata": {},
   "outputs": [],
   "source": [
    "# Predict on test data\n",
    "pred_train = rfc.predict(X_train)"
   ]
  },
  {
   "cell_type": "markdown",
   "metadata": {},
   "source": [
    "## <font color=green>Confusion Matrix Evaluation Metrics for Train Data</font>"
   ]
  },
  {
   "cell_type": "code",
   "execution_count": 263,
   "metadata": {},
   "outputs": [
    {
     "name": "stdout",
     "output_type": "stream",
     "text": [
      "accuracy_score :  0.99984375\n",
      "classification_report :               precision    recall  f1-score   support\n",
      "\n",
      "         FE       1.00      1.00      1.00      1479\n",
      "         UE       1.00      1.00      1.00      2796\n",
      "          W       1.00      1.00      1.00      2125\n",
      "\n",
      "avg / total       1.00      1.00      1.00      6400\n",
      "\n"
     ]
    },
    {
     "data": {
      "text/plain": [
       "array([[1479,    0,    0],\n",
       "       [   0, 2796,    0],\n",
       "       [   0,    1, 2124]], dtype=int64)"
      ]
     },
     "execution_count": 263,
     "metadata": {},
     "output_type": "execute_result"
    }
   ],
   "source": [
    "print(\"accuracy_score : \",accuracy_score(y_train, pred_train))\n",
    "print(\"classification_report : \",classification_report(y_train,pred_train)) \n",
    "cnf = confusion_matrix(y_train, pred_train)\n",
    "cnf"
   ]
  },
  {
   "cell_type": "code",
   "execution_count": 264,
   "metadata": {},
   "outputs": [
    {
     "data": {
      "text/plain": [
       "Text(0.5,257.44,'Predicted Label')"
      ]
     },
     "execution_count": 264,
     "metadata": {},
     "output_type": "execute_result"
    },
    {
     "data": {
      "image/png": "[encoded data removed]",
      "text/plain": [
       "<Figure size 432x288 with 2 Axes>"
      ]
     },
     "metadata": {},
     "output_type": "display_data"
    }
   ],
   "source": [
    "class_names = ['UE', 'FE', 'W']\n",
    "fig, ax = plt.subplots()\n",
    "tick_marks = np.arange(len(class_names))\n",
    "plt.xticks(tick_marks, class_names)\n",
    "plt.yticks(tick_marks, class_names)\n",
    "\n",
    "#create heatmap\n",
    "sns.heatmap(pd.DataFrame(cnf), annot=True, cmap=\"YlGnBu\", fmt='g')\n",
    "ax.xaxis.set_label_position(\"top\")\n",
    "plt.tight_layout()\n",
    "plt.title('Confusion matrix for Train Data', y=1.1)\n",
    "plt.ylabel('Actual Label')\n",
    "plt.xlabel('Predicted Label')"
   ]
  },
  {
   "cell_type": "markdown",
   "metadata": {},
   "source": [
    "## <font color=green>Predict on Test data</font>"
   ]
  },
  {
   "cell_type": "code",
   "execution_count": 265,
   "metadata": {},
   "outputs": [],
   "source": [
    "# Predict on test data\n",
    "pred_test = rfc.predict(X_test)"
   ]
  },
  {
   "cell_type": "markdown",
   "metadata": {},
   "source": [
    "## <font color=green>Confusion Matrix Evaluation Metrics for Test Data</font>"
   ]
  },
  {
   "cell_type": "code",
   "execution_count": 266,
   "metadata": {},
   "outputs": [
    {
     "name": "stdout",
     "output_type": "stream",
     "text": [
      "accuracy_score :  0.8650843222985634\n",
      "classification_report :               precision    recall  f1-score   support\n",
      "\n",
      "         FE       0.77      0.72      0.74       339\n",
      "         UE       0.85      0.87      0.86       705\n",
      "          W       0.94      0.94      0.94       557\n",
      "\n",
      "avg / total       0.86      0.87      0.86      1601\n",
      "\n"
     ]
    },
    {
     "data": {
      "text/plain": [
       "array([[243,  91,   5],\n",
       "       [ 62, 616,  27],\n",
       "       [ 12,  19, 526]], dtype=int64)"
      ]
     },
     "execution_count": 266,
     "metadata": {},
     "output_type": "execute_result"
    }
   ],
   "source": [
    "print(\"accuracy_score : \",accuracy_score(y_test, pred_test))\n",
    "print(\"classification_report : \",classification_report(y_test,pred_test)) \n",
    "cnf = confusion_matrix(y_test, pred_test)\n",
    "cnf"
   ]
  },
  {
   "cell_type": "code",
   "execution_count": 267,
   "metadata": {},
   "outputs": [
    {
     "data": {
      "text/plain": [
       "Text(0.5,257.44,'Predicted Label')"
      ]
     },
     "execution_count": 267,
     "metadata": {},
     "output_type": "execute_result"
    },
    {
     "data": {
      "image/png": "[encoded data removed]",
      "text/plain": [
       "<Figure size 432x288 with 2 Axes>"
      ]
     },
     "metadata": {},
     "output_type": "display_data"
    }
   ],
   "source": [
    "class_names = ['UE', 'FE', 'W']\n",
    "fig, ax = plt.subplots()\n",
    "tick_marks = np.arange(len(class_names))\n",
    "plt.xticks(tick_marks, class_names)\n",
    "plt.yticks(tick_marks, class_names)\n",
    "\n",
    "#create heatmap\n",
    "sns.heatmap(pd.DataFrame(cnf), annot=True, cmap=\"YlGnBu\", fmt='g')\n",
    "ax.xaxis.set_label_position(\"top\")\n",
    "plt.tight_layout()\n",
    "plt.title('Confusion matrix for Train Data', y=1.1)\n",
    "plt.ylabel('Actual Label')\n",
    "plt.xlabel('Predicted Label')"
   ]
  },
  {
   "cell_type": "markdown",
   "metadata": {},
   "source": [
    "## <font color=green>Apply SVM on data set</font>"
   ]
  },
  {
   "cell_type": "code",
   "execution_count": 336,
   "metadata": {},
   "outputs": [
    {
     "name": "stderr",
     "output_type": "stream",
     "text": [
      "C:\\ProgramData\\Anaconda3\\lib\\site-packages\\sklearn\\utils\\validation.py:578: DataConversionWarning: A column-vector y was passed when a 1d array was expected. Please change the shape of y to (n_samples, ), for example using ravel().\n",
      "  y = column_or_1d(y, warn=True)\n"
     ]
    },
    {
     "data": {
      "text/plain": [
       "SVC(C=1.0, cache_size=200, class_weight=None, coef0=0.0,\n",
       "  decision_function_shape='ovr', degree=3, gamma='auto', kernel='rbf',\n",
       "  max_iter=-1, probability=False, random_state=None, shrinking=True,\n",
       "  tol=0.001, verbose=False)"
      ]
     },
     "execution_count": 336,
     "metadata": {},
     "output_type": "execute_result"
    }
   ],
   "source": [
    "# Create Random Forest model\n",
    "svc = SVC(kernel='rbf')\n",
    "svc.fit(X_train, y_train)"
   ]
  },
  {
   "cell_type": "markdown",
   "metadata": {},
   "source": [
    "## <font color=green>Predict on Train data</font>"
   ]
  },
  {
   "cell_type": "code",
   "execution_count": 337,
   "metadata": {},
   "outputs": [],
   "source": [
    "# Predict on test data\n",
    "pred_train = svc.predict(X_train)"
   ]
  },
  {
   "cell_type": "markdown",
   "metadata": {},
   "source": [
    "## <font color=green>Confusion Matrix Evaluation Metrics for Train Data</font>"
   ]
  },
  {
   "cell_type": "code",
   "execution_count": 338,
   "metadata": {},
   "outputs": [
    {
     "name": "stdout",
     "output_type": "stream",
     "text": [
      "accuracy_score :  0.8809375\n",
      "classification_report :               precision    recall  f1-score   support\n",
      "\n",
      "         FE       0.84      0.80      0.82      1454\n",
      "         UE       0.89      0.88      0.88      2802\n",
      "          W       0.90      0.94      0.92      2144\n",
      "\n",
      "avg / total       0.88      0.88      0.88      6400\n",
      "\n"
     ]
    },
    {
     "data": {
      "text/plain": [
       "array([[1156,  225,   73],\n",
       "       [ 178, 2464,  160],\n",
       "       [  44,   82, 2018]], dtype=int64)"
      ]
     },
     "execution_count": 338,
     "metadata": {},
     "output_type": "execute_result"
    }
   ],
   "source": [
    "print(\"accuracy_score : \",accuracy_score(y_train, pred_train))\n",
    "print(\"classification_report : \",classification_report(y_train,pred_train)) \n",
    "cnf = confusion_matrix(y_train, pred_train)\n",
    "cnf"
   ]
  },
  {
   "cell_type": "code",
   "execution_count": 339,
   "metadata": {},
   "outputs": [
    {
     "data": {
      "text/plain": [
       "Text(0.5,257.44,'Predicted Label')"
      ]
     },
     "execution_count": 339,
     "metadata": {},
     "output_type": "execute_result"
    },
    {
     "data": {
      "image/png": "[encoded data removed]",
      "text/plain": [
       "<Figure size 432x288 with 2 Axes>"
      ]
     },
     "metadata": {},
     "output_type": "display_data"
    }
   ],
   "source": [
    "class_names = ['UE', 'FE', 'W']\n",
    "fig, ax = plt.subplots()\n",
    "tick_marks = np.arange(len(class_names))\n",
    "plt.xticks(tick_marks, class_names)\n",
    "plt.yticks(tick_marks, class_names)\n",
    "\n",
    "#create heatmap\n",
    "sns.heatmap(pd.DataFrame(cnf), annot=True, cmap=\"YlGnBu\", fmt='g')\n",
    "ax.xaxis.set_label_position(\"top\")\n",
    "plt.tight_layout()\n",
    "plt.title('Confusion matrix for Train Data', y=1.1)\n",
    "plt.ylabel('Actual Label')\n",
    "plt.xlabel('Predicted Label')"
   ]
  },
  {
   "cell_type": "markdown",
   "metadata": {},
   "source": [
    "## <font color=green>Predict on Test data</font>"
   ]
  },
  {
   "cell_type": "code",
   "execution_count": 340,
   "metadata": {},
   "outputs": [],
   "source": [
    "# Predict on test data\n",
    "pred_test = svc.predict(X_test)"
   ]
  },
  {
   "cell_type": "markdown",
   "metadata": {},
   "source": [
    "## <font color=green>Confusion Matrix Evaluation Metrics for Test Data</font>"
   ]
  },
  {
   "cell_type": "code",
   "execution_count": 341,
   "metadata": {},
   "outputs": [
    {
     "name": "stdout",
     "output_type": "stream",
     "text": [
      "accuracy_score :  0.8369768894440974\n",
      "classification_report :               precision    recall  f1-score   support\n",
      "\n",
      "         FE       0.77      0.73      0.75       364\n",
      "         UE       0.85      0.85      0.85       699\n",
      "          W       0.87      0.90      0.88       538\n",
      "\n",
      "avg / total       0.84      0.84      0.84      1601\n",
      "\n"
     ]
    },
    {
     "data": {
      "text/plain": [
       "array([[265,  76,  23],\n",
       "       [ 58, 591,  50],\n",
       "       [ 23,  31, 484]], dtype=int64)"
      ]
     },
     "execution_count": 341,
     "metadata": {},
     "output_type": "execute_result"
    }
   ],
   "source": [
    "print(\"accuracy_score : \",accuracy_score(y_test, pred_test))\n",
    "print(\"classification_report : \",classification_report(y_test,pred_test)) \n",
    "cnf = confusion_matrix(y_test, pred_test)\n",
    "cnf"
   ]
  },
  {
   "cell_type": "code",
   "execution_count": 342,
   "metadata": {},
   "outputs": [
    {
     "data": {
      "text/plain": [
       "Text(0.5,257.44,'Predicted Label')"
      ]
     },
     "execution_count": 342,
     "metadata": {},
     "output_type": "execute_result"
    },
    {
     "data": {
      "image/png": "[encoded data removed]",
      "text/plain": [
       "<Figure size 432x288 with 2 Axes>"
      ]
     },
     "metadata": {},
     "output_type": "display_data"
    }
   ],
   "source": [
    "class_names = ['UE', 'FE', 'W']\n",
    "fig, ax = plt.subplots()\n",
    "tick_marks = np.arange(len(class_names))\n",
    "plt.xticks(tick_marks, class_names)\n",
    "plt.yticks(tick_marks, class_names)\n",
    "\n",
    "#create heatmap\n",
    "sns.heatmap(pd.DataFrame(cnf), annot=True, cmap=\"YlGnBu\", fmt='g')\n",
    "ax.xaxis.set_label_position(\"top\")\n",
    "plt.tight_layout()\n",
    "plt.title('Confusion matrix for Train Data', y=1.1)\n",
    "plt.ylabel('Actual Label')\n",
    "plt.xlabel('Predicted Label')"
   ]
  },
  {
   "cell_type": "markdown",
   "metadata": {},
   "source": [
    "## <font color=green>Apply XGBoost on data set</font>"
   ]
  },
  {
   "cell_type": "code",
   "execution_count": 343,
   "metadata": {},
   "outputs": [
    {
     "name": "stderr",
     "output_type": "stream",
     "text": [
      "C:\\ProgramData\\Anaconda3\\lib\\site-packages\\sklearn\\preprocessing\\label.py:95: DataConversionWarning: A column-vector y was passed when a 1d array was expected. Please change the shape of y to (n_samples, ), for example using ravel().\n",
      "  y = column_or_1d(y, warn=True)\n",
      "C:\\ProgramData\\Anaconda3\\lib\\site-packages\\sklearn\\preprocessing\\label.py:128: DataConversionWarning: A column-vector y was passed when a 1d array was expected. Please change the shape of y to (n_samples, ), for example using ravel().\n",
      "  y = column_or_1d(y, warn=True)\n"
     ]
    },
    {
     "data": {
      "text/plain": [
       "XGBClassifier(alpha=10, base_score=0.5, booster='gbtree', colsample_bylevel=1,\n",
       "       colsample_bytree=0.3, gamma=0, learning_rate=0.1, max_delta_step=0,\n",
       "       max_depth=5, min_child_weight=1, missing=None, n_estimators=25,\n",
       "       n_jobs=1, nthread=None, objective='multi:softprob', random_state=0,\n",
       "       reg_alpha=0, reg_lambda=1, scale_pos_weight=1, seed=None,\n",
       "       silent=True, subsample=1)"
      ]
     },
     "execution_count": 343,
     "metadata": {},
     "output_type": "execute_result"
    }
   ],
   "source": [
    "# Create Random Forest model\n",
    "xg_reg = xgb.XGBClassifier(objective ='reg:logistic', colsample_bytree = 0.3, learning_rate = 0.1,\n",
    "                max_depth = 5, alpha = 10, n_estimators = 25)\n",
    "xg_reg.fit(X_train, y_train)"
   ]
  },
  {
   "cell_type": "markdown",
   "metadata": {},
   "source": [
    "## <font color=green>Predict on Train data</font>"
   ]
  },
  {
   "cell_type": "code",
   "execution_count": 344,
   "metadata": {},
   "outputs": [
    {
     "name": "stderr",
     "output_type": "stream",
     "text": [
      "C:\\ProgramData\\Anaconda3\\lib\\site-packages\\sklearn\\preprocessing\\label.py:151: DeprecationWarning: The truth value of an empty array is ambiguous. Returning False, but in future this will result in an error. Use `array.size > 0` to check that an array is not empty.\n",
      "  if diff:\n"
     ]
    }
   ],
   "source": [
    "# Predict on test data\n",
    "pred_train = xg_reg.predict(X_train)"
   ]
  },
  {
   "cell_type": "markdown",
   "metadata": {},
   "source": [
    "## <font color=green>Confusion Matrix Evaluation Metrics for Train Data</font>"
   ]
  },
  {
   "cell_type": "code",
   "execution_count": 345,
   "metadata": {},
   "outputs": [
    {
     "name": "stdout",
     "output_type": "stream",
     "text": [
      "accuracy_score :  0.88546875\n",
      "classification_report :               precision    recall  f1-score   support\n",
      "\n",
      "         FE       0.88      0.72      0.79      1454\n",
      "         UE       0.86      0.93      0.89      2802\n",
      "          W       0.93      0.94      0.94      2144\n",
      "\n",
      "avg / total       0.89      0.89      0.88      6400\n",
      "\n"
     ]
    },
    {
     "data": {
      "text/plain": [
       "array([[1050,  344,   60],\n",
       "       [ 112, 2601,   89],\n",
       "       [  38,   90, 2016]], dtype=int64)"
      ]
     },
     "execution_count": 345,
     "metadata": {},
     "output_type": "execute_result"
    }
   ],
   "source": [
    "print(\"accuracy_score : \",accuracy_score(y_train, pred_train))\n",
    "print(\"classification_report : \",classification_report(y_train,pred_train)) \n",
    "cnf = confusion_matrix(y_train, pred_train)\n",
    "cnf"
   ]
  },
  {
   "cell_type": "code",
   "execution_count": 346,
   "metadata": {},
   "outputs": [
    {
     "data": {
      "text/plain": [
       "Text(0.5,257.44,'Predicted Label')"
      ]
     },
     "execution_count": 346,
     "metadata": {},
     "output_type": "execute_result"
    },
    {
     "data": {
      "image/png": "[encoded data removed]",
      "text/plain": [
       "<Figure size 432x288 with 2 Axes>"
      ]
     },
     "metadata": {},
     "output_type": "display_data"
    }
   ],
   "source": [
    "class_names = ['UE', 'FE', 'W']\n",
    "fig, ax = plt.subplots()\n",
    "tick_marks = np.arange(len(class_names))\n",
    "plt.xticks(tick_marks, class_names)\n",
    "plt.yticks(tick_marks, class_names)\n",
    "\n",
    "#create heatmap\n",
    "sns.heatmap(pd.DataFrame(cnf), annot=True, cmap=\"YlGnBu\", fmt='g')\n",
    "ax.xaxis.set_label_position(\"top\")\n",
    "plt.tight_layout()\n",
    "plt.title('Confusion matrix for Train Data', y=1.1)\n",
    "plt.ylabel('Actual Label')\n",
    "plt.xlabel('Predicted Label')"
   ]
  },
  {
   "cell_type": "markdown",
   "metadata": {},
   "source": [
    "## <font color=green>Predict on Test data</font>"
   ]
  },
  {
   "cell_type": "code",
   "execution_count": 347,
   "metadata": {},
   "outputs": [
    {
     "name": "stderr",
     "output_type": "stream",
     "text": [
      "C:\\ProgramData\\Anaconda3\\lib\\site-packages\\sklearn\\preprocessing\\label.py:151: DeprecationWarning: The truth value of an empty array is ambiguous. Returning False, but in future this will result in an error. Use `array.size > 0` to check that an array is not empty.\n",
      "  if diff:\n"
     ]
    }
   ],
   "source": [
    "# Predict on test data\n",
    "pred_test = xg_reg.predict(X_test)"
   ]
  },
  {
   "cell_type": "markdown",
   "metadata": {},
   "source": [
    "## <font color=green>Confusion Matrix Evaluation Metrics for Test Data</font>"
   ]
  },
  {
   "cell_type": "code",
   "execution_count": 348,
   "metadata": {},
   "outputs": [
    {
     "name": "stdout",
     "output_type": "stream",
     "text": [
      "accuracy_score :  0.8432229856339788\n",
      "classification_report :               precision    recall  f1-score   support\n",
      "\n",
      "         FE       0.81      0.62      0.70       364\n",
      "         UE       0.80      0.91      0.85       699\n",
      "          W       0.93      0.91      0.92       538\n",
      "\n",
      "avg / total       0.84      0.84      0.84      1601\n",
      "\n"
     ]
    },
    {
     "data": {
      "text/plain": [
       "array([[227, 122,  15],\n",
       "       [ 40, 636,  23],\n",
       "       [ 14,  37, 487]], dtype=int64)"
      ]
     },
     "execution_count": 348,
     "metadata": {},
     "output_type": "execute_result"
    }
   ],
   "source": [
    "print(\"accuracy_score : \",accuracy_score(y_test, pred_test))\n",
    "print(\"classification_report : \",classification_report(y_test,pred_test)) \n",
    "cnf = confusion_matrix(y_test, pred_test)\n",
    "cnf"
   ]
  },
  {
   "cell_type": "code",
   "execution_count": 349,
   "metadata": {},
   "outputs": [
    {
     "data": {
      "text/plain": [
       "Text(0.5,257.44,'Predicted Label')"
      ]
     },
     "execution_count": 349,
     "metadata": {},
     "output_type": "execute_result"
    },
    {
     "data": {
      "image/png": "[encoded data removed]",
      "text/plain": [
       "<Figure size 432x288 with 2 Axes>"
      ]
     },
     "metadata": {},
     "output_type": "display_data"
    }
   ],
   "source": [
    "class_names = ['UE', 'FE', 'W']\n",
    "fig, ax = plt.subplots()\n",
    "tick_marks = np.arange(len(class_names))\n",
    "plt.xticks(tick_marks, class_names)\n",
    "plt.yticks(tick_marks, class_names)\n",
    "\n",
    "#create heatmap\n",
    "sns.heatmap(pd.DataFrame(cnf), annot=True, cmap=\"YlGnBu\", fmt='g')\n",
    "ax.xaxis.set_label_position(\"top\")\n",
    "plt.tight_layout()\n",
    "plt.title('Confusion matrix for Train Data', y=1.1)\n",
    "plt.ylabel('Actual Label')\n",
    "plt.xlabel('Predicted Label')"
   ]
  },
  {
   "cell_type": "markdown",
   "metadata": {},
   "source": [
    "## <font color=green>Check variance using K-Fold cross validation</font>"
   ]
  },
  {
   "cell_type": "code",
   "execution_count": 268,
   "metadata": {},
   "outputs": [
    {
     "name": "stderr",
     "output_type": "stream",
     "text": [
      "C:\\ProgramData\\Anaconda3\\lib\\site-packages\\sklearn\\model_selection\\_validation.py:458: DataConversionWarning: A column-vector y was passed when a 1d array was expected. Please change the shape of y to (n_samples,), for example using ravel().\n",
      "  estimator.fit(X_train, y_train, **fit_params)\n",
      "C:\\ProgramData\\Anaconda3\\lib\\site-packages\\sklearn\\model_selection\\_validation.py:458: DataConversionWarning: A column-vector y was passed when a 1d array was expected. Please change the shape of y to (n_samples,), for example using ravel().\n",
      "  estimator.fit(X_train, y_train, **fit_params)\n",
      "C:\\ProgramData\\Anaconda3\\lib\\site-packages\\sklearn\\model_selection\\_validation.py:458: DataConversionWarning: A column-vector y was passed when a 1d array was expected. Please change the shape of y to (n_samples,), for example using ravel().\n",
      "  estimator.fit(X_train, y_train, **fit_params)\n",
      "C:\\ProgramData\\Anaconda3\\lib\\site-packages\\sklearn\\model_selection\\_validation.py:458: DataConversionWarning: A column-vector y was passed when a 1d array was expected. Please change the shape of y to (n_samples,), for example using ravel().\n",
      "  estimator.fit(X_train, y_train, **fit_params)\n",
      "C:\\ProgramData\\Anaconda3\\lib\\site-packages\\sklearn\\model_selection\\_validation.py:458: DataConversionWarning: A column-vector y was passed when a 1d array was expected. Please change the shape of y to (n_samples,), for example using ravel().\n",
      "  estimator.fit(X_train, y_train, **fit_params)\n",
      "C:\\ProgramData\\Anaconda3\\lib\\site-packages\\sklearn\\model_selection\\_validation.py:458: DataConversionWarning: A column-vector y was passed when a 1d array was expected. Please change the shape of y to (n_samples,), for example using ravel().\n",
      "  estimator.fit(X_train, y_train, **fit_params)\n",
      "C:\\ProgramData\\Anaconda3\\lib\\site-packages\\sklearn\\model_selection\\_validation.py:458: DataConversionWarning: A column-vector y was passed when a 1d array was expected. Please change the shape of y to (n_samples,), for example using ravel().\n",
      "  estimator.fit(X_train, y_train, **fit_params)\n",
      "C:\\ProgramData\\Anaconda3\\lib\\site-packages\\sklearn\\model_selection\\_validation.py:458: DataConversionWarning: A column-vector y was passed when a 1d array was expected. Please change the shape of y to (n_samples,), for example using ravel().\n",
      "  estimator.fit(X_train, y_train, **fit_params)\n",
      "C:\\ProgramData\\Anaconda3\\lib\\site-packages\\sklearn\\model_selection\\_validation.py:458: DataConversionWarning: A column-vector y was passed when a 1d array was expected. Please change the shape of y to (n_samples,), for example using ravel().\n",
      "  estimator.fit(X_train, y_train, **fit_params)\n"
     ]
    },
    {
     "name": "stdout",
     "output_type": "stream",
     "text": [
      "[0.8125, 0.81875, 0.8198757763975155, 0.8375, 0.8375, 0.84375, 0.85625, 0.85625, 0.875, 0.89375]\n"
     ]
    },
    {
     "name": "stderr",
     "output_type": "stream",
     "text": [
      "C:\\ProgramData\\Anaconda3\\lib\\site-packages\\sklearn\\model_selection\\_validation.py:458: DataConversionWarning: A column-vector y was passed when a 1d array was expected. Please change the shape of y to (n_samples,), for example using ravel().\n",
      "  estimator.fit(X_train, y_train, **fit_params)\n"
     ]
    }
   ],
   "source": [
    "from sklearn.model_selection import KFold\n",
    "from sklearn.model_selection import cross_val_score\n",
    "model = rfc\n",
    "kf = KFold(n_splits=10,random_state=9, shuffle=True)\n",
    "print(sorted(list(cross_val_score(model, X_test, y_test, cv=kf))))"
   ]
  },
  {
   "cell_type": "markdown",
   "metadata": {},
   "source": [
    "# Accuracy is 86%"
   ]
  },
  {
   "cell_type": "markdown",
   "metadata": {},
   "source": [
    "## <font color=green>Checking the best parameter of n_estimeter by Grid Search</font>"
   ]
  },
  {
   "cell_type": "code",
   "execution_count": 127,
   "metadata": {},
   "outputs": [
    {
     "name": "stderr",
     "output_type": "stream",
     "text": [
      "C:\\ProgramData\\Anaconda3\\lib\\site-packages\\sklearn\\model_selection\\_validation.py:458: DataConversionWarning: A column-vector y was passed when a 1d array was expected. Please change the shape of y to (n_samples,), for example using ravel().\n",
      "  estimator.fit(X_train, y_train, **fit_params)\n",
      "C:\\ProgramData\\Anaconda3\\lib\\site-packages\\sklearn\\model_selection\\_validation.py:458: DataConversionWarning: A column-vector y was passed when a 1d array was expected. Please change the shape of y to (n_samples,), for example using ravel().\n",
      "  estimator.fit(X_train, y_train, **fit_params)\n",
      "C:\\ProgramData\\Anaconda3\\lib\\site-packages\\sklearn\\model_selection\\_validation.py:458: DataConversionWarning: A column-vector y was passed when a 1d array was expected. Please change the shape of y to (n_samples,), for example using ravel().\n",
      "  estimator.fit(X_train, y_train, **fit_params)\n",
      "C:\\ProgramData\\Anaconda3\\lib\\site-packages\\sklearn\\model_selection\\_validation.py:458: DataConversionWarning: A column-vector y was passed when a 1d array was expected. Please change the shape of y to (n_samples,), for example using ravel().\n",
      "  estimator.fit(X_train, y_train, **fit_params)\n",
      "C:\\ProgramData\\Anaconda3\\lib\\site-packages\\sklearn\\model_selection\\_validation.py:458: DataConversionWarning: A column-vector y was passed when a 1d array was expected. Please change the shape of y to (n_samples,), for example using ravel().\n",
      "  estimator.fit(X_train, y_train, **fit_params)\n",
      "C:\\ProgramData\\Anaconda3\\lib\\site-packages\\sklearn\\model_selection\\_validation.py:458: DataConversionWarning: A column-vector y was passed when a 1d array was expected. Please change the shape of y to (n_samples,), for example using ravel().\n",
      "  estimator.fit(X_train, y_train, **fit_params)\n",
      "C:\\ProgramData\\Anaconda3\\lib\\site-packages\\sklearn\\model_selection\\_validation.py:458: DataConversionWarning: A column-vector y was passed when a 1d array was expected. Please change the shape of y to (n_samples,), for example using ravel().\n",
      "  estimator.fit(X_train, y_train, **fit_params)\n",
      "C:\\ProgramData\\Anaconda3\\lib\\site-packages\\sklearn\\model_selection\\_validation.py:458: DataConversionWarning: A column-vector y was passed when a 1d array was expected. Please change the shape of y to (n_samples,), for example using ravel().\n",
      "  estimator.fit(X_train, y_train, **fit_params)\n",
      "C:\\ProgramData\\Anaconda3\\lib\\site-packages\\sklearn\\model_selection\\_validation.py:458: DataConversionWarning: A column-vector y was passed when a 1d array was expected. Please change the shape of y to (n_samples,), for example using ravel().\n",
      "  estimator.fit(X_train, y_train, **fit_params)\n",
      "C:\\ProgramData\\Anaconda3\\lib\\site-packages\\sklearn\\model_selection\\_validation.py:458: DataConversionWarning: A column-vector y was passed when a 1d array was expected. Please change the shape of y to (n_samples,), for example using ravel().\n",
      "  estimator.fit(X_train, y_train, **fit_params)\n",
      "C:\\ProgramData\\Anaconda3\\lib\\site-packages\\sklearn\\model_selection\\_validation.py:458: DataConversionWarning: A column-vector y was passed when a 1d array was expected. Please change the shape of y to (n_samples,), for example using ravel().\n",
      "  estimator.fit(X_train, y_train, **fit_params)\n",
      "C:\\ProgramData\\Anaconda3\\lib\\site-packages\\sklearn\\model_selection\\_validation.py:458: DataConversionWarning: A column-vector y was passed when a 1d array was expected. Please change the shape of y to (n_samples,), for example using ravel().\n",
      "  estimator.fit(X_train, y_train, **fit_params)\n",
      "C:\\ProgramData\\Anaconda3\\lib\\site-packages\\sklearn\\model_selection\\_validation.py:458: DataConversionWarning: A column-vector y was passed when a 1d array was expected. Please change the shape of y to (n_samples,), for example using ravel().\n",
      "  estimator.fit(X_train, y_train, **fit_params)\n",
      "C:\\ProgramData\\Anaconda3\\lib\\site-packages\\sklearn\\model_selection\\_validation.py:458: DataConversionWarning: A column-vector y was passed when a 1d array was expected. Please change the shape of y to (n_samples,), for example using ravel().\n",
      "  estimator.fit(X_train, y_train, **fit_params)\n",
      "C:\\ProgramData\\Anaconda3\\lib\\site-packages\\sklearn\\model_selection\\_validation.py:458: DataConversionWarning: A column-vector y was passed when a 1d array was expected. Please change the shape of y to (n_samples,), for example using ravel().\n",
      "  estimator.fit(X_train, y_train, **fit_params)\n",
      "C:\\ProgramData\\Anaconda3\\lib\\site-packages\\sklearn\\model_selection\\_validation.py:458: DataConversionWarning: A column-vector y was passed when a 1d array was expected. Please change the shape of y to (n_samples,), for example using ravel().\n",
      "  estimator.fit(X_train, y_train, **fit_params)\n",
      "C:\\ProgramData\\Anaconda3\\lib\\site-packages\\sklearn\\model_selection\\_validation.py:458: DataConversionWarning: A column-vector y was passed when a 1d array was expected. Please change the shape of y to (n_samples,), for example using ravel().\n",
      "  estimator.fit(X_train, y_train, **fit_params)\n",
      "C:\\ProgramData\\Anaconda3\\lib\\site-packages\\sklearn\\model_selection\\_validation.py:458: DataConversionWarning: A column-vector y was passed when a 1d array was expected. Please change the shape of y to (n_samples,), for example using ravel().\n",
      "  estimator.fit(X_train, y_train, **fit_params)\n",
      "C:\\ProgramData\\Anaconda3\\lib\\site-packages\\sklearn\\model_selection\\_validation.py:458: DataConversionWarning: A column-vector y was passed when a 1d array was expected. Please change the shape of y to (n_samples,), for example using ravel().\n",
      "  estimator.fit(X_train, y_train, **fit_params)\n",
      "C:\\ProgramData\\Anaconda3\\lib\\site-packages\\sklearn\\model_selection\\_validation.py:458: DataConversionWarning: A column-vector y was passed when a 1d array was expected. Please change the shape of y to (n_samples,), for example using ravel().\n",
      "  estimator.fit(X_train, y_train, **fit_params)\n",
      "C:\\ProgramData\\Anaconda3\\lib\\site-packages\\sklearn\\model_selection\\_validation.py:458: DataConversionWarning: A column-vector y was passed when a 1d array was expected. Please change the shape of y to (n_samples,), for example using ravel().\n",
      "  estimator.fit(X_train, y_train, **fit_params)\n",
      "C:\\ProgramData\\Anaconda3\\lib\\site-packages\\sklearn\\model_selection\\_validation.py:458: DataConversionWarning: A column-vector y was passed when a 1d array was expected. Please change the shape of y to (n_samples,), for example using ravel().\n",
      "  estimator.fit(X_train, y_train, **fit_params)\n",
      "C:\\ProgramData\\Anaconda3\\lib\\site-packages\\sklearn\\model_selection\\_validation.py:458: DataConversionWarning: A column-vector y was passed when a 1d array was expected. Please change the shape of y to (n_samples,), for example using ravel().\n",
      "  estimator.fit(X_train, y_train, **fit_params)\n",
      "C:\\ProgramData\\Anaconda3\\lib\\site-packages\\sklearn\\model_selection\\_validation.py:458: DataConversionWarning: A column-vector y was passed when a 1d array was expected. Please change the shape of y to (n_samples,), for example using ravel().\n",
      "  estimator.fit(X_train, y_train, **fit_params)\n",
      "C:\\ProgramData\\Anaconda3\\lib\\site-packages\\sklearn\\model_selection\\_validation.py:458: DataConversionWarning: A column-vector y was passed when a 1d array was expected. Please change the shape of y to (n_samples,), for example using ravel().\n",
      "  estimator.fit(X_train, y_train, **fit_params)\n",
      "C:\\ProgramData\\Anaconda3\\lib\\site-packages\\sklearn\\model_selection\\_validation.py:458: DataConversionWarning: A column-vector y was passed when a 1d array was expected. Please change the shape of y to (n_samples,), for example using ravel().\n",
      "  estimator.fit(X_train, y_train, **fit_params)\n",
      "C:\\ProgramData\\Anaconda3\\lib\\site-packages\\sklearn\\model_selection\\_validation.py:458: DataConversionWarning: A column-vector y was passed when a 1d array was expected. Please change the shape of y to (n_samples,), for example using ravel().\n",
      "  estimator.fit(X_train, y_train, **fit_params)\n",
      "C:\\ProgramData\\Anaconda3\\lib\\site-packages\\sklearn\\model_selection\\_validation.py:458: DataConversionWarning: A column-vector y was passed when a 1d array was expected. Please change the shape of y to (n_samples,), for example using ravel().\n",
      "  estimator.fit(X_train, y_train, **fit_params)\n",
      "C:\\ProgramData\\Anaconda3\\lib\\site-packages\\sklearn\\model_selection\\_validation.py:458: DataConversionWarning: A column-vector y was passed when a 1d array was expected. Please change the shape of y to (n_samples,), for example using ravel().\n",
      "  estimator.fit(X_train, y_train, **fit_params)\n"
     ]
    },
    {
     "name": "stderr",
     "output_type": "stream",
     "text": [
      "C:\\ProgramData\\Anaconda3\\lib\\site-packages\\sklearn\\model_selection\\_validation.py:458: DataConversionWarning: A column-vector y was passed when a 1d array was expected. Please change the shape of y to (n_samples,), for example using ravel().\n",
      "  estimator.fit(X_train, y_train, **fit_params)\n",
      "C:\\ProgramData\\Anaconda3\\lib\\site-packages\\sklearn\\model_selection\\_validation.py:458: DataConversionWarning: A column-vector y was passed when a 1d array was expected. Please change the shape of y to (n_samples,), for example using ravel().\n",
      "  estimator.fit(X_train, y_train, **fit_params)\n",
      "C:\\ProgramData\\Anaconda3\\lib\\site-packages\\sklearn\\model_selection\\_validation.py:458: DataConversionWarning: A column-vector y was passed when a 1d array was expected. Please change the shape of y to (n_samples,), for example using ravel().\n",
      "  estimator.fit(X_train, y_train, **fit_params)\n",
      "C:\\ProgramData\\Anaconda3\\lib\\site-packages\\sklearn\\model_selection\\_validation.py:458: DataConversionWarning: A column-vector y was passed when a 1d array was expected. Please change the shape of y to (n_samples,), for example using ravel().\n",
      "  estimator.fit(X_train, y_train, **fit_params)\n",
      "C:\\ProgramData\\Anaconda3\\lib\\site-packages\\sklearn\\model_selection\\_validation.py:458: DataConversionWarning: A column-vector y was passed when a 1d array was expected. Please change the shape of y to (n_samples,), for example using ravel().\n",
      "  estimator.fit(X_train, y_train, **fit_params)\n",
      "C:\\ProgramData\\Anaconda3\\lib\\site-packages\\sklearn\\model_selection\\_validation.py:458: DataConversionWarning: A column-vector y was passed when a 1d array was expected. Please change the shape of y to (n_samples,), for example using ravel().\n",
      "  estimator.fit(X_train, y_train, **fit_params)\n",
      "C:\\ProgramData\\Anaconda3\\lib\\site-packages\\sklearn\\model_selection\\_validation.py:458: DataConversionWarning: A column-vector y was passed when a 1d array was expected. Please change the shape of y to (n_samples,), for example using ravel().\n",
      "  estimator.fit(X_train, y_train, **fit_params)\n",
      "C:\\ProgramData\\Anaconda3\\lib\\site-packages\\sklearn\\model_selection\\_validation.py:458: DataConversionWarning: A column-vector y was passed when a 1d array was expected. Please change the shape of y to (n_samples,), for example using ravel().\n",
      "  estimator.fit(X_train, y_train, **fit_params)\n",
      "C:\\ProgramData\\Anaconda3\\lib\\site-packages\\sklearn\\model_selection\\_validation.py:458: DataConversionWarning: A column-vector y was passed when a 1d array was expected. Please change the shape of y to (n_samples,), for example using ravel().\n",
      "  estimator.fit(X_train, y_train, **fit_params)\n",
      "C:\\ProgramData\\Anaconda3\\lib\\site-packages\\sklearn\\model_selection\\_validation.py:458: DataConversionWarning: A column-vector y was passed when a 1d array was expected. Please change the shape of y to (n_samples,), for example using ravel().\n",
      "  estimator.fit(X_train, y_train, **fit_params)\n",
      "C:\\ProgramData\\Anaconda3\\lib\\site-packages\\sklearn\\model_selection\\_validation.py:458: DataConversionWarning: A column-vector y was passed when a 1d array was expected. Please change the shape of y to (n_samples,), for example using ravel().\n",
      "  estimator.fit(X_train, y_train, **fit_params)\n",
      "C:\\ProgramData\\Anaconda3\\lib\\site-packages\\sklearn\\model_selection\\_validation.py:458: DataConversionWarning: A column-vector y was passed when a 1d array was expected. Please change the shape of y to (n_samples,), for example using ravel().\n",
      "  estimator.fit(X_train, y_train, **fit_params)\n",
      "C:\\ProgramData\\Anaconda3\\lib\\site-packages\\sklearn\\model_selection\\_validation.py:458: DataConversionWarning: A column-vector y was passed when a 1d array was expected. Please change the shape of y to (n_samples,), for example using ravel().\n",
      "  estimator.fit(X_train, y_train, **fit_params)\n",
      "C:\\ProgramData\\Anaconda3\\lib\\site-packages\\sklearn\\model_selection\\_validation.py:458: DataConversionWarning: A column-vector y was passed when a 1d array was expected. Please change the shape of y to (n_samples,), for example using ravel().\n",
      "  estimator.fit(X_train, y_train, **fit_params)\n",
      "C:\\ProgramData\\Anaconda3\\lib\\site-packages\\sklearn\\model_selection\\_validation.py:458: DataConversionWarning: A column-vector y was passed when a 1d array was expected. Please change the shape of y to (n_samples,), for example using ravel().\n",
      "  estimator.fit(X_train, y_train, **fit_params)\n",
      "C:\\ProgramData\\Anaconda3\\lib\\site-packages\\sklearn\\model_selection\\_validation.py:458: DataConversionWarning: A column-vector y was passed when a 1d array was expected. Please change the shape of y to (n_samples,), for example using ravel().\n",
      "  estimator.fit(X_train, y_train, **fit_params)\n",
      "C:\\ProgramData\\Anaconda3\\lib\\site-packages\\sklearn\\model_selection\\_validation.py:458: DataConversionWarning: A column-vector y was passed when a 1d array was expected. Please change the shape of y to (n_samples,), for example using ravel().\n",
      "  estimator.fit(X_train, y_train, **fit_params)\n",
      "C:\\ProgramData\\Anaconda3\\lib\\site-packages\\sklearn\\model_selection\\_validation.py:458: DataConversionWarning: A column-vector y was passed when a 1d array was expected. Please change the shape of y to (n_samples,), for example using ravel().\n",
      "  estimator.fit(X_train, y_train, **fit_params)\n",
      "C:\\ProgramData\\Anaconda3\\lib\\site-packages\\sklearn\\model_selection\\_validation.py:458: DataConversionWarning: A column-vector y was passed when a 1d array was expected. Please change the shape of y to (n_samples,), for example using ravel().\n",
      "  estimator.fit(X_train, y_train, **fit_params)\n",
      "C:\\ProgramData\\Anaconda3\\lib\\site-packages\\sklearn\\model_selection\\_validation.py:458: DataConversionWarning: A column-vector y was passed when a 1d array was expected. Please change the shape of y to (n_samples,), for example using ravel().\n",
      "  estimator.fit(X_train, y_train, **fit_params)\n",
      "C:\\ProgramData\\Anaconda3\\lib\\site-packages\\sklearn\\model_selection\\_validation.py:458: DataConversionWarning: A column-vector y was passed when a 1d array was expected. Please change the shape of y to (n_samples,), for example using ravel().\n",
      "  estimator.fit(X_train, y_train, **fit_params)\n",
      "C:\\ProgramData\\Anaconda3\\lib\\site-packages\\sklearn\\model_selection\\_validation.py:458: DataConversionWarning: A column-vector y was passed when a 1d array was expected. Please change the shape of y to (n_samples,), for example using ravel().\n",
      "  estimator.fit(X_train, y_train, **fit_params)\n",
      "C:\\ProgramData\\Anaconda3\\lib\\site-packages\\sklearn\\model_selection\\_validation.py:458: DataConversionWarning: A column-vector y was passed when a 1d array was expected. Please change the shape of y to (n_samples,), for example using ravel().\n",
      "  estimator.fit(X_train, y_train, **fit_params)\n",
      "C:\\ProgramData\\Anaconda3\\lib\\site-packages\\sklearn\\model_selection\\_validation.py:458: DataConversionWarning: A column-vector y was passed when a 1d array was expected. Please change the shape of y to (n_samples,), for example using ravel().\n",
      "  estimator.fit(X_train, y_train, **fit_params)\n",
      "C:\\ProgramData\\Anaconda3\\lib\\site-packages\\sklearn\\model_selection\\_validation.py:458: DataConversionWarning: A column-vector y was passed when a 1d array was expected. Please change the shape of y to (n_samples,), for example using ravel().\n",
      "  estimator.fit(X_train, y_train, **fit_params)\n",
      "C:\\ProgramData\\Anaconda3\\lib\\site-packages\\sklearn\\model_selection\\_validation.py:458: DataConversionWarning: A column-vector y was passed when a 1d array was expected. Please change the shape of y to (n_samples,), for example using ravel().\n",
      "  estimator.fit(X_train, y_train, **fit_params)\n",
      "C:\\ProgramData\\Anaconda3\\lib\\site-packages\\sklearn\\model_selection\\_search.py:739: DataConversionWarning: A column-vector y was passed when a 1d array was expected. Please change the shape of y to (n_samples,), for example using ravel().\n",
      "  self.best_estimator_.fit(X, y, **fit_params)\n"
     ]
    },
    {
     "data": {
      "text/plain": [
       "{'n_estimators': 27}"
      ]
     },
     "execution_count": 127,
     "metadata": {},
     "output_type": "execute_result"
    }
   ],
   "source": [
    "from sklearn.model_selection import GridSearchCV\n",
    "params = {'n_estimators':[20,21,22,23,24,25,26,27,28,29,30]}\n",
    "\n",
    "rfc = RandomForestClassifier()\n",
    "\n",
    "model = GridSearchCV(rfc, params, cv=5)\n",
    "model.fit(X_train, y_train)\n",
    "model.best_params_"
   ]
  },
  {
   "cell_type": "code",
   "execution_count": null,
   "metadata": {},
   "outputs": [],
   "source": []
  },
  {
   "cell_type": "markdown",
   "metadata": {},
   "source": [
    "## <font color=green>Load the Test data</font>"
   ]
  },
  {
   "cell_type": "code",
   "execution_count": 269,
   "metadata": {},
   "outputs": [],
   "source": [
    "test_df = pd.read_csv(\"test-1542197608821.csv\")"
   ]
  },
  {
   "cell_type": "markdown",
   "metadata": {},
   "source": [
    "## <font color=green>Descriptive Analysis on Test Dataset</font>"
   ]
  },
  {
   "cell_type": "code",
   "execution_count": 270,
   "metadata": {},
   "outputs": [
    {
     "data": {
      "text/plain": [
       "(1999, 26)"
      ]
     },
     "execution_count": 270,
     "metadata": {},
     "output_type": "execute_result"
    }
   ],
   "source": [
    "test_df.shape"
   ]
  },
  {
   "cell_type": "code",
   "execution_count": 271,
   "metadata": {},
   "outputs": [
    {
     "data": {
      "text/html": [
       "<div>\n",
       "<style scoped>\n",
       "    .dataframe tbody tr th:only-of-type {\n",
       "        vertical-align: middle;\n",
       "    }\n",
       "\n",
       "    .dataframe tbody tr th {\n",
       "        vertical-align: top;\n",
       "    }\n",
       "\n",
       "    .dataframe thead th {\n",
       "        text-align: right;\n",
       "    }\n",
       "</style>\n",
       "<table border=\"1\" class=\"dataframe\">\n",
       "  <thead>\n",
       "    <tr style=\"text-align: right;\">\n",
       "      <th></th>\n",
       "      <th>rally</th>\n",
       "      <th>serve</th>\n",
       "      <th>hitpoint</th>\n",
       "      <th>speed</th>\n",
       "      <th>net.clearance</th>\n",
       "      <th>distance.from.sideline</th>\n",
       "      <th>depth</th>\n",
       "      <th>outside.sideline</th>\n",
       "      <th>outside.baseline</th>\n",
       "      <th>player.distance.travelled</th>\n",
       "      <th>...</th>\n",
       "      <th>previous.distance.from.sideline</th>\n",
       "      <th>previous.depth</th>\n",
       "      <th>opponent.depth</th>\n",
       "      <th>opponent.distance.from.center</th>\n",
       "      <th>same.side</th>\n",
       "      <th>previous.hitpoint</th>\n",
       "      <th>previous.time.to.net</th>\n",
       "      <th>server.is.impact.player</th>\n",
       "      <th>gender</th>\n",
       "      <th>ID</th>\n",
       "    </tr>\n",
       "  </thead>\n",
       "  <tbody>\n",
       "    <tr>\n",
       "      <th>0</th>\n",
       "      <td>9</td>\n",
       "      <td>2</td>\n",
       "      <td>F</td>\n",
       "      <td>35.175883</td>\n",
       "      <td>0.043887</td>\n",
       "      <td>0.094705</td>\n",
       "      <td>5.273092</td>\n",
       "      <td>False</td>\n",
       "      <td>False</td>\n",
       "      <td>3.046643</td>\n",
       "      <td>...</td>\n",
       "      <td>1.714530</td>\n",
       "      <td>3.242105</td>\n",
       "      <td>13.7504</td>\n",
       "      <td>0.0804</td>\n",
       "      <td>True</td>\n",
       "      <td>F</td>\n",
       "      <td>0.416033</td>\n",
       "      <td>True</td>\n",
       "      <td>mens</td>\n",
       "      <td>1921</td>\n",
       "    </tr>\n",
       "    <tr>\n",
       "      <th>1</th>\n",
       "      <td>20</td>\n",
       "      <td>1</td>\n",
       "      <td>F</td>\n",
       "      <td>40.228085</td>\n",
       "      <td>-0.078997</td>\n",
       "      <td>2.338881</td>\n",
       "      <td>6.598016</td>\n",
       "      <td>False</td>\n",
       "      <td>False</td>\n",
       "      <td>3.680105</td>\n",
       "      <td>...</td>\n",
       "      <td>1.312494</td>\n",
       "      <td>4.137708</td>\n",
       "      <td>13.5904</td>\n",
       "      <td>0.2918</td>\n",
       "      <td>False</td>\n",
       "      <td>F</td>\n",
       "      <td>0.477320</td>\n",
       "      <td>False</td>\n",
       "      <td>mens</td>\n",
       "      <td>486</td>\n",
       "    </tr>\n",
       "    <tr>\n",
       "      <th>2</th>\n",
       "      <td>4</td>\n",
       "      <td>1</td>\n",
       "      <td>B</td>\n",
       "      <td>33.007920</td>\n",
       "      <td>1.048139</td>\n",
       "      <td>0.237409</td>\n",
       "      <td>1.174517</td>\n",
       "      <td>True</td>\n",
       "      <td>True</td>\n",
       "      <td>3.113512</td>\n",
       "      <td>...</td>\n",
       "      <td>1.428471</td>\n",
       "      <td>5.160210</td>\n",
       "      <td>8.9626</td>\n",
       "      <td>1.0526</td>\n",
       "      <td>True</td>\n",
       "      <td>F</td>\n",
       "      <td>0.254050</td>\n",
       "      <td>False</td>\n",
       "      <td>mens</td>\n",
       "      <td>5177</td>\n",
       "    </tr>\n",
       "    <tr>\n",
       "      <th>3</th>\n",
       "      <td>7</td>\n",
       "      <td>1</td>\n",
       "      <td>F</td>\n",
       "      <td>36.628975</td>\n",
       "      <td>0.259331</td>\n",
       "      <td>2.169861</td>\n",
       "      <td>3.218796</td>\n",
       "      <td>False</td>\n",
       "      <td>False</td>\n",
       "      <td>6.598774</td>\n",
       "      <td>...</td>\n",
       "      <td>0.551039</td>\n",
       "      <td>6.987856</td>\n",
       "      <td>12.6566</td>\n",
       "      <td>0.5594</td>\n",
       "      <td>True</td>\n",
       "      <td>F</td>\n",
       "      <td>0.980174</td>\n",
       "      <td>True</td>\n",
       "      <td>mens</td>\n",
       "      <td>4632</td>\n",
       "    </tr>\n",
       "    <tr>\n",
       "      <th>4</th>\n",
       "      <td>3</td>\n",
       "      <td>1</td>\n",
       "      <td>F</td>\n",
       "      <td>32.921307</td>\n",
       "      <td>1.543395</td>\n",
       "      <td>2.829455</td>\n",
       "      <td>0.705429</td>\n",
       "      <td>False</td>\n",
       "      <td>True</td>\n",
       "      <td>3.719087</td>\n",
       "      <td>...</td>\n",
       "      <td>0.542881</td>\n",
       "      <td>3.353384</td>\n",
       "      <td>13.0612</td>\n",
       "      <td>4.3934</td>\n",
       "      <td>False</td>\n",
       "      <td>F</td>\n",
       "      <td>0.522505</td>\n",
       "      <td>True</td>\n",
       "      <td>mens</td>\n",
       "      <td>2735</td>\n",
       "    </tr>\n",
       "  </tbody>\n",
       "</table>\n",
       "<p>5 rows × 26 columns</p>\n",
       "</div>"
      ],
      "text/plain": [
       "   rally  serve hitpoint      speed  net.clearance  distance.from.sideline  \\\n",
       "0      9      2        F  35.175883       0.043887                0.094705   \n",
       "1     20      1        F  40.228085      -0.078997                2.338881   \n",
       "2      4      1        B  33.007920       1.048139                0.237409   \n",
       "3      7      1        F  36.628975       0.259331                2.169861   \n",
       "4      3      1        F  32.921307       1.543395                2.829455   \n",
       "\n",
       "      depth  outside.sideline  outside.baseline  player.distance.travelled  \\\n",
       "0  5.273092             False             False                   3.046643   \n",
       "1  6.598016             False             False                   3.680105   \n",
       "2  1.174517              True              True                   3.113512   \n",
       "3  3.218796             False             False                   6.598774   \n",
       "4  0.705429             False              True                   3.719087   \n",
       "\n",
       "   ...   previous.distance.from.sideline  previous.depth  opponent.depth  \\\n",
       "0  ...                          1.714530        3.242105         13.7504   \n",
       "1  ...                          1.312494        4.137708         13.5904   \n",
       "2  ...                          1.428471        5.160210          8.9626   \n",
       "3  ...                          0.551039        6.987856         12.6566   \n",
       "4  ...                          0.542881        3.353384         13.0612   \n",
       "\n",
       "   opponent.distance.from.center  same.side  previous.hitpoint  \\\n",
       "0                         0.0804       True                  F   \n",
       "1                         0.2918      False                  F   \n",
       "2                         1.0526       True                  F   \n",
       "3                         0.5594       True                  F   \n",
       "4                         4.3934      False                  F   \n",
       "\n",
       "   previous.time.to.net  server.is.impact.player  gender    ID  \n",
       "0              0.416033                     True    mens  1921  \n",
       "1              0.477320                    False    mens   486  \n",
       "2              0.254050                    False    mens  5177  \n",
       "3              0.980174                     True    mens  4632  \n",
       "4              0.522505                     True    mens  2735  \n",
       "\n",
       "[5 rows x 26 columns]"
      ]
     },
     "execution_count": 271,
     "metadata": {},
     "output_type": "execute_result"
    }
   ],
   "source": [
    "test_df.head()"
   ]
  },
  {
   "cell_type": "code",
   "execution_count": 272,
   "metadata": {},
   "outputs": [
    {
     "data": {
      "text/plain": [
       "rally                                   int64\n",
       "serve                                   int64\n",
       "hitpoint                               object\n",
       "speed                                 float64\n",
       "net.clearance                         float64\n",
       "distance.from.sideline                float64\n",
       "depth                                 float64\n",
       "outside.sideline                         bool\n",
       "outside.baseline                         bool\n",
       "player.distance.travelled             float64\n",
       "player.impact.depth                   float64\n",
       "player.impact.distance.from.center    float64\n",
       "player.depth                          float64\n",
       "player.distance.from.center           float64\n",
       "previous.speed                        float64\n",
       "previous.net.clearance                float64\n",
       "previous.distance.from.sideline       float64\n",
       "previous.depth                        float64\n",
       "opponent.depth                        float64\n",
       "opponent.distance.from.center         float64\n",
       "same.side                                bool\n",
       "previous.hitpoint                      object\n",
       "previous.time.to.net                  float64\n",
       "server.is.impact.player                  bool\n",
       "gender                                 object\n",
       "ID                                      int64\n",
       "dtype: object"
      ]
     },
     "execution_count": 272,
     "metadata": {},
     "output_type": "execute_result"
    }
   ],
   "source": [
    "test_df.dtypes"
   ]
  },
  {
   "cell_type": "markdown",
   "metadata": {},
   "source": [
    "## <font color=green>Check for missing values in Test Data set</font>"
   ]
  },
  {
   "cell_type": "code",
   "execution_count": 273,
   "metadata": {
    "scrolled": true
   },
   "outputs": [
    {
     "data": {
      "text/plain": [
       "rally                                 0\n",
       "serve                                 0\n",
       "hitpoint                              0\n",
       "speed                                 0\n",
       "net.clearance                         0\n",
       "distance.from.sideline                0\n",
       "depth                                 0\n",
       "outside.sideline                      0\n",
       "outside.baseline                      0\n",
       "player.distance.travelled             0\n",
       "player.impact.depth                   0\n",
       "player.impact.distance.from.center    0\n",
       "player.depth                          0\n",
       "player.distance.from.center           0\n",
       "previous.speed                        0\n",
       "previous.net.clearance                0\n",
       "previous.distance.from.sideline       0\n",
       "previous.depth                        0\n",
       "opponent.depth                        0\n",
       "opponent.distance.from.center         0\n",
       "same.side                             0\n",
       "previous.hitpoint                     0\n",
       "previous.time.to.net                  0\n",
       "server.is.impact.player               0\n",
       "gender                                0\n",
       "ID                                    0\n",
       "dtype: int64"
      ]
     },
     "execution_count": 273,
     "metadata": {},
     "output_type": "execute_result"
    }
   ],
   "source": [
    "test_df.isna().sum()"
   ]
  },
  {
   "cell_type": "code",
   "execution_count": 274,
   "metadata": {
    "scrolled": true
   },
   "outputs": [
    {
     "data": {
      "text/html": [
       "<div>\n",
       "<style scoped>\n",
       "    .dataframe tbody tr th:only-of-type {\n",
       "        vertical-align: middle;\n",
       "    }\n",
       "\n",
       "    .dataframe tbody tr th {\n",
       "        vertical-align: top;\n",
       "    }\n",
       "\n",
       "    .dataframe thead th {\n",
       "        text-align: right;\n",
       "    }\n",
       "</style>\n",
       "<table border=\"1\" class=\"dataframe\">\n",
       "  <thead>\n",
       "    <tr style=\"text-align: right;\">\n",
       "      <th></th>\n",
       "      <th>rally</th>\n",
       "      <th>serve</th>\n",
       "      <th>speed</th>\n",
       "      <th>net.clearance</th>\n",
       "      <th>distance.from.sideline</th>\n",
       "      <th>depth</th>\n",
       "      <th>player.distance.travelled</th>\n",
       "      <th>player.impact.depth</th>\n",
       "      <th>player.impact.distance.from.center</th>\n",
       "      <th>player.depth</th>\n",
       "      <th>player.distance.from.center</th>\n",
       "      <th>previous.speed</th>\n",
       "      <th>previous.net.clearance</th>\n",
       "      <th>previous.distance.from.sideline</th>\n",
       "      <th>previous.depth</th>\n",
       "      <th>opponent.depth</th>\n",
       "      <th>opponent.distance.from.center</th>\n",
       "      <th>previous.time.to.net</th>\n",
       "      <th>ID</th>\n",
       "    </tr>\n",
       "  </thead>\n",
       "  <tbody>\n",
       "    <tr>\n",
       "      <th>count</th>\n",
       "      <td>1999.000000</td>\n",
       "      <td>1999.000000</td>\n",
       "      <td>1999.000000</td>\n",
       "      <td>1999.000000</td>\n",
       "      <td>1999.000000</td>\n",
       "      <td>1999.000000</td>\n",
       "      <td>1999.000000</td>\n",
       "      <td>1999.000000</td>\n",
       "      <td>1999.00000</td>\n",
       "      <td>1999.000000</td>\n",
       "      <td>1.999000e+03</td>\n",
       "      <td>1999.000000</td>\n",
       "      <td>1999.000000</td>\n",
       "      <td>1999.000000</td>\n",
       "      <td>1999.000000</td>\n",
       "      <td>1999.000000</td>\n",
       "      <td>1999.000000</td>\n",
       "      <td>1999.000000</td>\n",
       "      <td>1999.000000</td>\n",
       "    </tr>\n",
       "    <tr>\n",
       "      <th>mean</th>\n",
       "      <td>5.940970</td>\n",
       "      <td>1.390695</td>\n",
       "      <td>30.959961</td>\n",
       "      <td>0.625024</td>\n",
       "      <td>1.481937</td>\n",
       "      <td>4.441907</td>\n",
       "      <td>2.794546</td>\n",
       "      <td>11.884109</td>\n",
       "      <td>1.96010</td>\n",
       "      <td>12.321218</td>\n",
       "      <td>1.220193e+00</td>\n",
       "      <td>28.788841</td>\n",
       "      <td>0.836213</td>\n",
       "      <td>2.174300</td>\n",
       "      <td>4.261345</td>\n",
       "      <td>12.652001</td>\n",
       "      <td>2.345560</td>\n",
       "      <td>0.556545</td>\n",
       "      <td>4982.819910</td>\n",
       "    </tr>\n",
       "    <tr>\n",
       "      <th>std</th>\n",
       "      <td>3.404572</td>\n",
       "      <td>0.488028</td>\n",
       "      <td>7.211053</td>\n",
       "      <td>0.953149</td>\n",
       "      <td>1.171619</td>\n",
       "      <td>3.057629</td>\n",
       "      <td>1.760004</td>\n",
       "      <td>2.852135</td>\n",
       "      <td>1.21065</td>\n",
       "      <td>2.039207</td>\n",
       "      <td>9.621707e-01</td>\n",
       "      <td>6.603152</td>\n",
       "      <td>0.705880</td>\n",
       "      <td>1.036979</td>\n",
       "      <td>2.111577</td>\n",
       "      <td>2.052610</td>\n",
       "      <td>1.308956</td>\n",
       "      <td>0.198800</td>\n",
       "      <td>2854.801282</td>\n",
       "    </tr>\n",
       "    <tr>\n",
       "      <th>min</th>\n",
       "      <td>3.000000</td>\n",
       "      <td>1.000000</td>\n",
       "      <td>5.967862</td>\n",
       "      <td>-0.947000</td>\n",
       "      <td>0.000378</td>\n",
       "      <td>0.000282</td>\n",
       "      <td>0.000000</td>\n",
       "      <td>2.382400</td>\n",
       "      <td>0.00380</td>\n",
       "      <td>2.289000</td>\n",
       "      <td>3.330000e-17</td>\n",
       "      <td>7.192505</td>\n",
       "      <td>0.016645</td>\n",
       "      <td>0.011245</td>\n",
       "      <td>0.000077</td>\n",
       "      <td>1.775600</td>\n",
       "      <td>0.004200</td>\n",
       "      <td>0.129512</td>\n",
       "      <td>7.000000</td>\n",
       "    </tr>\n",
       "    <tr>\n",
       "      <th>25%</th>\n",
       "      <td>3.000000</td>\n",
       "      <td>1.000000</td>\n",
       "      <td>27.096931</td>\n",
       "      <td>-0.029067</td>\n",
       "      <td>0.509897</td>\n",
       "      <td>1.747267</td>\n",
       "      <td>1.512959</td>\n",
       "      <td>11.200400</td>\n",
       "      <td>0.98450</td>\n",
       "      <td>11.444400</td>\n",
       "      <td>5.458000e-01</td>\n",
       "      <td>23.984126</td>\n",
       "      <td>0.401917</td>\n",
       "      <td>1.347867</td>\n",
       "      <td>2.737934</td>\n",
       "      <td>12.034500</td>\n",
       "      <td>1.349000</td>\n",
       "      <td>0.430654</td>\n",
       "      <td>2508.500000</td>\n",
       "    </tr>\n",
       "    <tr>\n",
       "      <th>50%</th>\n",
       "      <td>5.000000</td>\n",
       "      <td>1.000000</td>\n",
       "      <td>32.352130</td>\n",
       "      <td>0.424933</td>\n",
       "      <td>1.228648</td>\n",
       "      <td>4.010807</td>\n",
       "      <td>2.467288</td>\n",
       "      <td>12.662200</td>\n",
       "      <td>1.85860</td>\n",
       "      <td>12.604000</td>\n",
       "      <td>9.930000e-01</td>\n",
       "      <td>29.967505</td>\n",
       "      <td>0.655240</td>\n",
       "      <td>2.129097</td>\n",
       "      <td>4.105601</td>\n",
       "      <td>12.932600</td>\n",
       "      <td>2.286800</td>\n",
       "      <td>0.508967</td>\n",
       "      <td>5023.000000</td>\n",
       "    </tr>\n",
       "    <tr>\n",
       "      <th>75%</th>\n",
       "      <td>7.000000</td>\n",
       "      <td>2.000000</td>\n",
       "      <td>35.816773</td>\n",
       "      <td>0.961843</td>\n",
       "      <td>2.230283</td>\n",
       "      <td>6.930374</td>\n",
       "      <td>3.691839</td>\n",
       "      <td>13.589100</td>\n",
       "      <td>2.82800</td>\n",
       "      <td>13.540000</td>\n",
       "      <td>1.638200e+00</td>\n",
       "      <td>33.547749</td>\n",
       "      <td>1.025679</td>\n",
       "      <td>2.996242</td>\n",
       "      <td>5.626217</td>\n",
       "      <td>13.749000</td>\n",
       "      <td>3.177900</td>\n",
       "      <td>0.628650</td>\n",
       "      <td>7424.500000</td>\n",
       "    </tr>\n",
       "    <tr>\n",
       "      <th>max</th>\n",
       "      <td>25.000000</td>\n",
       "      <td>2.000000</td>\n",
       "      <td>60.414369</td>\n",
       "      <td>7.071732</td>\n",
       "      <td>16.343755</td>\n",
       "      <td>11.885337</td>\n",
       "      <td>12.094686</td>\n",
       "      <td>18.700600</td>\n",
       "      <td>6.64520</td>\n",
       "      <td>18.452200</td>\n",
       "      <td>5.784600e+00</td>\n",
       "      <td>55.282098</td>\n",
       "      <td>6.312546</td>\n",
       "      <td>4.114185</td>\n",
       "      <td>9.996154</td>\n",
       "      <td>17.796200</td>\n",
       "      <td>12.995000</td>\n",
       "      <td>1.651724</td>\n",
       "      <td>9991.000000</td>\n",
       "    </tr>\n",
       "  </tbody>\n",
       "</table>\n",
       "</div>"
      ],
      "text/plain": [
       "             rally        serve        speed  net.clearance  \\\n",
       "count  1999.000000  1999.000000  1999.000000    1999.000000   \n",
       "mean      5.940970     1.390695    30.959961       0.625024   \n",
       "std       3.404572     0.488028     7.211053       0.953149   \n",
       "min       3.000000     1.000000     5.967862      -0.947000   \n",
       "25%       3.000000     1.000000    27.096931      -0.029067   \n",
       "50%       5.000000     1.000000    32.352130       0.424933   \n",
       "75%       7.000000     2.000000    35.816773       0.961843   \n",
       "max      25.000000     2.000000    60.414369       7.071732   \n",
       "\n",
       "       distance.from.sideline        depth  player.distance.travelled  \\\n",
       "count             1999.000000  1999.000000                1999.000000   \n",
       "mean                 1.481937     4.441907                   2.794546   \n",
       "std                  1.171619     3.057629                   1.760004   \n",
       "min                  0.000378     0.000282                   0.000000   \n",
       "25%                  0.509897     1.747267                   1.512959   \n",
       "50%                  1.228648     4.010807                   2.467288   \n",
       "75%                  2.230283     6.930374                   3.691839   \n",
       "max                 16.343755    11.885337                  12.094686   \n",
       "\n",
       "       player.impact.depth  player.impact.distance.from.center  player.depth  \\\n",
       "count          1999.000000                          1999.00000   1999.000000   \n",
       "mean             11.884109                             1.96010     12.321218   \n",
       "std               2.852135                             1.21065      2.039207   \n",
       "min               2.382400                             0.00380      2.289000   \n",
       "25%              11.200400                             0.98450     11.444400   \n",
       "50%              12.662200                             1.85860     12.604000   \n",
       "75%              13.589100                             2.82800     13.540000   \n",
       "max              18.700600                             6.64520     18.452200   \n",
       "\n",
       "       player.distance.from.center  previous.speed  previous.net.clearance  \\\n",
       "count                 1.999000e+03     1999.000000             1999.000000   \n",
       "mean                  1.220193e+00       28.788841                0.836213   \n",
       "std                   9.621707e-01        6.603152                0.705880   \n",
       "min                   3.330000e-17        7.192505                0.016645   \n",
       "25%                   5.458000e-01       23.984126                0.401917   \n",
       "50%                   9.930000e-01       29.967505                0.655240   \n",
       "75%                   1.638200e+00       33.547749                1.025679   \n",
       "max                   5.784600e+00       55.282098                6.312546   \n",
       "\n",
       "       previous.distance.from.sideline  previous.depth  opponent.depth  \\\n",
       "count                      1999.000000     1999.000000     1999.000000   \n",
       "mean                          2.174300        4.261345       12.652001   \n",
       "std                           1.036979        2.111577        2.052610   \n",
       "min                           0.011245        0.000077        1.775600   \n",
       "25%                           1.347867        2.737934       12.034500   \n",
       "50%                           2.129097        4.105601       12.932600   \n",
       "75%                           2.996242        5.626217       13.749000   \n",
       "max                           4.114185        9.996154       17.796200   \n",
       "\n",
       "       opponent.distance.from.center  previous.time.to.net           ID  \n",
       "count                    1999.000000           1999.000000  1999.000000  \n",
       "mean                        2.345560              0.556545  4982.819910  \n",
       "std                         1.308956              0.198800  2854.801282  \n",
       "min                         0.004200              0.129512     7.000000  \n",
       "25%                         1.349000              0.430654  2508.500000  \n",
       "50%                         2.286800              0.508967  5023.000000  \n",
       "75%                         3.177900              0.628650  7424.500000  \n",
       "max                        12.995000              1.651724  9991.000000  "
      ]
     },
     "execution_count": 274,
     "metadata": {},
     "output_type": "execute_result"
    }
   ],
   "source": [
    "test_df.describe()"
   ]
  },
  {
   "cell_type": "markdown",
   "metadata": {},
   "source": [
    "## <font color=green>Preparing ID variable</font>"
   ]
  },
  {
   "cell_type": "code",
   "execution_count": 275,
   "metadata": {},
   "outputs": [],
   "source": [
    "ID = test_df.iloc[:,25:26]"
   ]
  },
  {
   "cell_type": "markdown",
   "metadata": {},
   "source": [
    "## <font color='green'>Drop attribute which will not be part of analysis</font>"
   ]
  },
  {
   "cell_type": "code",
   "execution_count": 276,
   "metadata": {},
   "outputs": [],
   "source": [
    "test_df.drop('ID', axis=1, inplace = True)"
   ]
  },
  {
   "cell_type": "markdown",
   "metadata": {},
   "source": [
    "## <font color=green>Preprocess test data</font>"
   ]
  },
  {
   "cell_type": "code",
   "execution_count": 277,
   "metadata": {
    "scrolled": false
   },
   "outputs": [
    {
     "name": "stdout",
     "output_type": "stream",
     "text": [
      "num_attr.shape :  (1999, 17)\n",
      "categorical_attr.shape :  (1999, 8)\n"
     ]
    },
    {
     "name": "stderr",
     "output_type": "stream",
     "text": [
      "C:\\ProgramData\\Anaconda3\\lib\\site-packages\\ipykernel_launcher.py:9: SettingWithCopyWarning: \n",
      "A value is trying to be set on a copy of a slice from a DataFrame.\n",
      "Try using .loc[row_indexer,col_indexer] = value instead\n",
      "\n",
      "See the caveats in the documentation: http://pandas.pydata.org/pandas-docs/stable/indexing.html#indexing-view-versus-copy\n",
      "  if __name__ == '__main__':\n"
     ]
    }
   ],
   "source": [
    "# Preprocess test dataset\n",
    "test_df = preprocessing_data(test_df)"
   ]
  },
  {
   "cell_type": "markdown",
   "metadata": {},
   "source": [
    "## <font color=green>Standardized numerical data</font>"
   ]
  },
  {
   "cell_type": "code",
   "execution_count": 278,
   "metadata": {},
   "outputs": [],
   "source": [
    "test_df[numerical_attr] = sc.transform(test_df[numerical_attr])"
   ]
  },
  {
   "cell_type": "markdown",
   "metadata": {},
   "source": [
    "## <font color=green>Predict on Test data</font>"
   ]
  },
  {
   "cell_type": "code",
   "execution_count": 279,
   "metadata": {},
   "outputs": [],
   "source": [
    "pred_test = rfc.predict(test_df)"
   ]
  },
  {
   "cell_type": "code",
   "execution_count": 280,
   "metadata": {},
   "outputs": [],
   "source": [
    "pred_test = pd.DataFrame(pred_test)"
   ]
  },
  {
   "cell_type": "markdown",
   "metadata": {},
   "source": [
    "## <font color=green>Combine ID and test prediction to export to a file</font>"
   ]
  },
  {
   "cell_type": "code",
   "execution_count": 281,
   "metadata": {},
   "outputs": [],
   "source": [
    "final_pred_test = pd.concat([ID,pred_test], axis=1)"
   ]
  },
  {
   "cell_type": "markdown",
   "metadata": {},
   "source": [
    "## <font color=green>Export to csv file</font>"
   ]
  },
  {
   "cell_type": "code",
   "execution_count": 282,
   "metadata": {},
   "outputs": [],
   "source": [
    "final_pred_test.to_csv('Random_Forest_Test_Result.csv', index=False, header = True)"
   ]
  },
  {
   "cell_type": "code",
   "execution_count": null,
   "metadata": {},
   "outputs": [],
   "source": []
  }
 ],
 "metadata": {
  "kernelspec": {
   "display_name": "Python 3",
   "language": "python",
   "name": "python3"
  },
  "language_info": {
   "codemirror_mode": {
    "name": "ipython",
    "version": 3
   },
   "file_extension": ".py",
   "mimetype": "text/x-python",
   "name": "python",
   "nbconvert_exporter": "python",
   "pygments_lexer": "ipython3",
   "version": "3.6.5"
  }
 },
 "nbformat": 4,
 "nbformat_minor": 2
}
